{
 "cells": [
  {
   "cell_type": "markdown",
   "metadata": {},
   "source": [
    "## Рекомендательные системы: предсказание оценки"
   ]
  },
  {
   "cell_type": "markdown",
   "metadata": {},
   "source": [
    "Рассмотрим задачу предсказания оценки, которую пользователь поставит фильму. Особенность этой задачи в том, что объекты выборки описываются категориальными признаками, принимающими большое число значений (например: идентификатор пользователя, идентификатор фильма, тэги, киноперсоны).\n",
    "\n",
    "Данные: [MovieLens + IMDb/Rotten Tomatoes](http://files.grouplens.org/datasets/hetrec2011/hetrec2011-movielens-2k-v2.zip) ([описание](http://files.grouplens.org/datasets/hetrec2011/hetrec2011-movielens-readme.txt)). Набор содержит данные о предпочтениях пользователей сервиса рекомендации кинофильмов [MovieLens](http://www.movielens.org/). Пользовательские оценки для фильмов принимают значения в интервале от 0.5 до 5.0, они записаны в файле *user_ratedmovies.dat* (а также в *user_ratedmovies-timestamps.dat*,  где для каждой оценки записана дата и время в формате timestamp), остальные файлы содержат дополнительную информацию о фильмах, которую можно использовать как признаки. Заметьте: кроме оценок (и тегов), про пользователя ничего не известно.\n",
    "\n",
    "Задача: построить модель, предсказывающую оценку пользователя фильму, который он еще не смотрел.\n",
    "\n",
    "Метрика качества: будем считать, что пользователю сервиса доступен блок рекомендаций, который может содержать рекомендации не более чем 5 фильмов.\n",
    "Выберем некоторого пользователя $u$ и обозначим известные для него рейтинги за $R^u$. В качестве тестовых рейтингов $R^u_{test}$ для этого пользователя рассмотрим 5 рейтингов, поставленные последними по времени, в качестве валидационных $R^u_{val}$ — предпоследние 5 рейтингов. Остальные известные рейтинги этого пользователя будут составлять обучающую выборку $R^u_{train}$.\n",
    "Для подбора гиперпараметров в рамках данного задания будем использовать валидационную выборку, предварительно обучив модель на обучающей выборке, а для финальной оценки качества — тестовую выборку, предварительно обучив модель на обучающей и валидационной выборках."
   ]
  },
  {
   "cell_type": "markdown",
   "metadata": {},
   "source": [
    "**1. (1 балл)** Загрузите данные и сформируйте 3 разреженные матрицы пользователи—фильмы для обучающих, валидационных и тестовых рейтингов пользователей соответственно, где в каждой ячейке стоит рейтинг, если он известен, или ноль, если неизвестен."
   ]
  },
  {
   "cell_type": "code",
   "execution_count": 296,
   "metadata": {
    "collapsed": true
   },
   "outputs": [],
   "source": [
    "import numpy as np\n",
    "import pandas as pd\n",
    "from scipy import sparse\n",
    "import math\n",
    "from collections import Counter\n",
    "import matplotlib.pyplot as plt\n",
    "from scipy.sparse.linalg import norm\n",
    "%matplotlib inline"
   ]
  },
  {
   "cell_type": "code",
   "execution_count": 2,
   "metadata": {
    "collapsed": true
   },
   "outputs": [],
   "source": [
    "user_rate = pd.read_csv('user_ratedmovies-timestamps.dat', sep='\\t')"
   ]
  },
  {
   "cell_type": "code",
   "execution_count": 3,
   "metadata": {
    "collapsed": true
   },
   "outputs": [],
   "source": [
    "user_rate_test = pd.DataFrame(columns=[user_rate.columns])\n",
    "user_rate_val = pd.DataFrame(columns=[user_rate.columns])"
   ]
  },
  {
   "cell_type": "code",
   "execution_count": 4,
   "metadata": {
    "collapsed": true
   },
   "outputs": [],
   "source": [
    "for u in set(user_rate['userID'].values):\n",
    "    user_rate_test = user_rate_test.append(user_rate.loc[user_rate['userID']==u].sort_values(['timestamp'],ascending=False).iloc[:5])"
   ]
  },
  {
   "cell_type": "code",
   "execution_count": 5,
   "metadata": {
    "collapsed": true
   },
   "outputs": [],
   "source": [
    "for u in set(user_rate['userID'].values):\n",
    "    user_rate_val = user_rate_val.append(user_rate.loc[user_rate['userID']==u].sort_values(['timestamp'],ascending=False).iloc[5:10])"
   ]
  },
  {
   "cell_type": "code",
   "execution_count": 6,
   "metadata": {
    "collapsed": true
   },
   "outputs": [],
   "source": [
    "user_rate_train = pd.concat([user_rate, user_rate_test, user_rate_val]).drop_duplicates(keep=False) #удаляет оба дубликата"
   ]
  },
  {
   "cell_type": "code",
   "execution_count": 385,
   "metadata": {},
   "outputs": [
    {
     "data": {
      "text/html": [
       "<div>\n",
       "<style>\n",
       "    .dataframe thead tr:only-child th {\n",
       "        text-align: right;\n",
       "    }\n",
       "\n",
       "    .dataframe thead th {\n",
       "        text-align: left;\n",
       "    }\n",
       "\n",
       "    .dataframe tbody tr th {\n",
       "        vertical-align: top;\n",
       "    }\n",
       "</style>\n",
       "<table border=\"1\" class=\"dataframe\">\n",
       "  <thead>\n",
       "    <tr style=\"text-align: right;\">\n",
       "      <th></th>\n",
       "      <th>userID</th>\n",
       "      <th>movieID</th>\n",
       "      <th>rating</th>\n",
       "      <th>timestamp</th>\n",
       "    </tr>\n",
       "  </thead>\n",
       "  <tbody>\n",
       "    <tr>\n",
       "      <th>98105</th>\n",
       "      <td>8194</td>\n",
       "      <td>44191</td>\n",
       "      <td>3.0</td>\n",
       "      <td>1171275668000</td>\n",
       "    </tr>\n",
       "    <tr>\n",
       "      <th>98103</th>\n",
       "      <td>8194</td>\n",
       "      <td>5349</td>\n",
       "      <td>4.0</td>\n",
       "      <td>1171275665000</td>\n",
       "    </tr>\n",
       "    <tr>\n",
       "      <th>98096</th>\n",
       "      <td>8194</td>\n",
       "      <td>2640</td>\n",
       "      <td>3.5</td>\n",
       "      <td>1171275662000</td>\n",
       "    </tr>\n",
       "    <tr>\n",
       "      <th>98100</th>\n",
       "      <td>8194</td>\n",
       "      <td>3793</td>\n",
       "      <td>4.0</td>\n",
       "      <td>1171275656000</td>\n",
       "    </tr>\n",
       "    <tr>\n",
       "      <th>98107</th>\n",
       "      <td>8194</td>\n",
       "      <td>49647</td>\n",
       "      <td>4.0</td>\n",
       "      <td>1171275590000</td>\n",
       "    </tr>\n",
       "    <tr>\n",
       "      <th>195543</th>\n",
       "      <td>16389</td>\n",
       "      <td>57223</td>\n",
       "      <td>3.5</td>\n",
       "      <td>1230563196000</td>\n",
       "    </tr>\n",
       "    <tr>\n",
       "      <th>195298</th>\n",
       "      <td>16389</td>\n",
       "      <td>3702</td>\n",
       "      <td>3.0</td>\n",
       "      <td>1230563163000</td>\n",
       "    </tr>\n",
       "    <tr>\n",
       "      <th>195299</th>\n",
       "      <td>16389</td>\n",
       "      <td>3703</td>\n",
       "      <td>2.5</td>\n",
       "      <td>1230563158000</td>\n",
       "    </tr>\n",
       "    <tr>\n",
       "      <th>195208</th>\n",
       "      <td>16389</td>\n",
       "      <td>2371</td>\n",
       "      <td>3.5</td>\n",
       "      <td>1230563143000</td>\n",
       "    </tr>\n",
       "    <tr>\n",
       "      <th>195546</th>\n",
       "      <td>16389</td>\n",
       "      <td>59501</td>\n",
       "      <td>4.0</td>\n",
       "      <td>1229757784000</td>\n",
       "    </tr>\n",
       "    <tr>\n",
       "      <th>299613</th>\n",
       "      <td>24592</td>\n",
       "      <td>58025</td>\n",
       "      <td>3.0</td>\n",
       "      <td>1210012516000</td>\n",
       "    </tr>\n",
       "    <tr>\n",
       "      <th>299566</th>\n",
       "      <td>24592</td>\n",
       "      <td>40339</td>\n",
       "      <td>3.0</td>\n",
       "      <td>1210012501000</td>\n",
       "    </tr>\n",
       "    <tr>\n",
       "      <th>299415</th>\n",
       "      <td>24592</td>\n",
       "      <td>4370</td>\n",
       "      <td>3.5</td>\n",
       "      <td>1210012463000</td>\n",
       "    </tr>\n",
       "    <tr>\n",
       "      <th>299601</th>\n",
       "      <td>24592</td>\n",
       "      <td>53996</td>\n",
       "      <td>2.5</td>\n",
       "      <td>1210012458000</td>\n",
       "    </tr>\n",
       "    <tr>\n",
       "      <th>299527</th>\n",
       "      <td>24592</td>\n",
       "      <td>27904</td>\n",
       "      <td>2.5</td>\n",
       "      <td>1210012442000</td>\n",
       "    </tr>\n",
       "    <tr>\n",
       "      <th>98250</th>\n",
       "      <td>8209</td>\n",
       "      <td>3594</td>\n",
       "      <td>4.0</td>\n",
       "      <td>1191384178000</td>\n",
       "    </tr>\n",
       "    <tr>\n",
       "      <th>98261</th>\n",
       "      <td>8209</td>\n",
       "      <td>4039</td>\n",
       "      <td>3.5</td>\n",
       "      <td>1191384144000</td>\n",
       "    </tr>\n",
       "    <tr>\n",
       "      <th>98134</th>\n",
       "      <td>8209</td>\n",
       "      <td>588</td>\n",
       "      <td>4.5</td>\n",
       "      <td>1191384135000</td>\n",
       "    </tr>\n",
       "    <tr>\n",
       "      <th>98181</th>\n",
       "      <td>8209</td>\n",
       "      <td>1380</td>\n",
       "      <td>3.5</td>\n",
       "      <td>1191384111000</td>\n",
       "    </tr>\n",
       "    <tr>\n",
       "      <th>98229</th>\n",
       "      <td>8209</td>\n",
       "      <td>2700</td>\n",
       "      <td>3.5</td>\n",
       "      <td>1191384105000</td>\n",
       "    </tr>\n",
       "  </tbody>\n",
       "</table>\n",
       "</div>"
      ],
      "text/plain": [
       "       userID movieID  rating      timestamp\n",
       "98105    8194   44191     3.0  1171275668000\n",
       "98103    8194    5349     4.0  1171275665000\n",
       "98096    8194    2640     3.5  1171275662000\n",
       "98100    8194    3793     4.0  1171275656000\n",
       "98107    8194   49647     4.0  1171275590000\n",
       "195543  16389   57223     3.5  1230563196000\n",
       "195298  16389    3702     3.0  1230563163000\n",
       "195299  16389    3703     2.5  1230563158000\n",
       "195208  16389    2371     3.5  1230563143000\n",
       "195546  16389   59501     4.0  1229757784000\n",
       "299613  24592   58025     3.0  1210012516000\n",
       "299566  24592   40339     3.0  1210012501000\n",
       "299415  24592    4370     3.5  1210012463000\n",
       "299601  24592   53996     2.5  1210012458000\n",
       "299527  24592   27904     2.5  1210012442000\n",
       "98250    8209    3594     4.0  1191384178000\n",
       "98261    8209    4039     3.5  1191384144000\n",
       "98134    8209     588     4.5  1191384135000\n",
       "98181    8209    1380     3.5  1191384111000\n",
       "98229    8209    2700     3.5  1191384105000"
      ]
     },
     "execution_count": 385,
     "metadata": {},
     "output_type": "execute_result"
    }
   ],
   "source": [
    "user_rate_test.head(20)"
   ]
  },
  {
   "cell_type": "code",
   "execution_count": 15,
   "metadata": {},
   "outputs": [],
   "source": [
    "test_table = user_rate_test.pivot_table(values='rating',index='userID',columns='movieID',fill_value=0)\n",
    "val_table = user_rate_val.pivot_table(values='rating',index='userID',columns='movieID',fill_value=0)\n",
    "train_table = user_rate_train.pivot_table(values='rating',index='userID',columns='movieID',fill_value=0)"
   ]
  },
  {
   "cell_type": "code",
   "execution_count": 387,
   "metadata": {},
   "outputs": [
    {
     "data": {
      "text/html": [
       "<div>\n",
       "<style>\n",
       "    .dataframe thead tr:only-child th {\n",
       "        text-align: right;\n",
       "    }\n",
       "\n",
       "    .dataframe thead th {\n",
       "        text-align: left;\n",
       "    }\n",
       "\n",
       "    .dataframe tbody tr th {\n",
       "        vertical-align: top;\n",
       "    }\n",
       "</style>\n",
       "<table border=\"1\" class=\"dataframe\">\n",
       "  <thead>\n",
       "    <tr style=\"text-align: right;\">\n",
       "      <th>movieID</th>\n",
       "      <th>1</th>\n",
       "      <th>2</th>\n",
       "      <th>3</th>\n",
       "      <th>4</th>\n",
       "      <th>5</th>\n",
       "      <th>6</th>\n",
       "      <th>7</th>\n",
       "      <th>10</th>\n",
       "      <th>11</th>\n",
       "      <th>16</th>\n",
       "      <th>...</th>\n",
       "      <th>64976</th>\n",
       "      <th>64983</th>\n",
       "      <th>64986</th>\n",
       "      <th>64990</th>\n",
       "      <th>64997</th>\n",
       "      <th>65011</th>\n",
       "      <th>65037</th>\n",
       "      <th>65126</th>\n",
       "      <th>65130</th>\n",
       "      <th>65133</th>\n",
       "    </tr>\n",
       "    <tr>\n",
       "      <th>userID</th>\n",
       "      <th></th>\n",
       "      <th></th>\n",
       "      <th></th>\n",
       "      <th></th>\n",
       "      <th></th>\n",
       "      <th></th>\n",
       "      <th></th>\n",
       "      <th></th>\n",
       "      <th></th>\n",
       "      <th></th>\n",
       "      <th></th>\n",
       "      <th></th>\n",
       "      <th></th>\n",
       "      <th></th>\n",
       "      <th></th>\n",
       "      <th></th>\n",
       "      <th></th>\n",
       "      <th></th>\n",
       "      <th></th>\n",
       "      <th></th>\n",
       "      <th></th>\n",
       "    </tr>\n",
       "  </thead>\n",
       "  <tbody>\n",
       "    <tr>\n",
       "      <th>75</th>\n",
       "      <td>0.0</td>\n",
       "      <td>0.0</td>\n",
       "      <td>0</td>\n",
       "      <td>0.0</td>\n",
       "      <td>0.0</td>\n",
       "      <td>0.0</td>\n",
       "      <td>0</td>\n",
       "      <td>0.0</td>\n",
       "      <td>0</td>\n",
       "      <td>0.0</td>\n",
       "      <td>...</td>\n",
       "      <td>0.0</td>\n",
       "      <td>0.0</td>\n",
       "      <td>0</td>\n",
       "      <td>0.0</td>\n",
       "      <td>0.0</td>\n",
       "      <td>0</td>\n",
       "      <td>0.0</td>\n",
       "      <td>0.0</td>\n",
       "      <td>0.0</td>\n",
       "      <td>0</td>\n",
       "    </tr>\n",
       "    <tr>\n",
       "      <th>78</th>\n",
       "      <td>0.0</td>\n",
       "      <td>0.0</td>\n",
       "      <td>0</td>\n",
       "      <td>0.0</td>\n",
       "      <td>0.0</td>\n",
       "      <td>0.0</td>\n",
       "      <td>0</td>\n",
       "      <td>0.0</td>\n",
       "      <td>0</td>\n",
       "      <td>0.0</td>\n",
       "      <td>...</td>\n",
       "      <td>0.0</td>\n",
       "      <td>0.0</td>\n",
       "      <td>0</td>\n",
       "      <td>0.0</td>\n",
       "      <td>0.0</td>\n",
       "      <td>0</td>\n",
       "      <td>0.0</td>\n",
       "      <td>0.0</td>\n",
       "      <td>0.0</td>\n",
       "      <td>0</td>\n",
       "    </tr>\n",
       "    <tr>\n",
       "      <th>127</th>\n",
       "      <td>0.0</td>\n",
       "      <td>0.0</td>\n",
       "      <td>0</td>\n",
       "      <td>0.0</td>\n",
       "      <td>0.0</td>\n",
       "      <td>0.0</td>\n",
       "      <td>0</td>\n",
       "      <td>0.0</td>\n",
       "      <td>0</td>\n",
       "      <td>0.0</td>\n",
       "      <td>...</td>\n",
       "      <td>0.0</td>\n",
       "      <td>0.0</td>\n",
       "      <td>0</td>\n",
       "      <td>0.0</td>\n",
       "      <td>0.0</td>\n",
       "      <td>0</td>\n",
       "      <td>0.0</td>\n",
       "      <td>0.0</td>\n",
       "      <td>0.0</td>\n",
       "      <td>0</td>\n",
       "    </tr>\n",
       "    <tr>\n",
       "      <th>170</th>\n",
       "      <td>0.0</td>\n",
       "      <td>0.0</td>\n",
       "      <td>0</td>\n",
       "      <td>0.0</td>\n",
       "      <td>0.0</td>\n",
       "      <td>0.0</td>\n",
       "      <td>0</td>\n",
       "      <td>0.0</td>\n",
       "      <td>0</td>\n",
       "      <td>0.0</td>\n",
       "      <td>...</td>\n",
       "      <td>0.0</td>\n",
       "      <td>0.0</td>\n",
       "      <td>0</td>\n",
       "      <td>0.0</td>\n",
       "      <td>0.0</td>\n",
       "      <td>0</td>\n",
       "      <td>0.0</td>\n",
       "      <td>0.0</td>\n",
       "      <td>0.0</td>\n",
       "      <td>0</td>\n",
       "    </tr>\n",
       "    <tr>\n",
       "      <th>175</th>\n",
       "      <td>0.0</td>\n",
       "      <td>0.0</td>\n",
       "      <td>0</td>\n",
       "      <td>0.0</td>\n",
       "      <td>0.0</td>\n",
       "      <td>0.0</td>\n",
       "      <td>0</td>\n",
       "      <td>0.0</td>\n",
       "      <td>0</td>\n",
       "      <td>0.0</td>\n",
       "      <td>...</td>\n",
       "      <td>0.0</td>\n",
       "      <td>0.0</td>\n",
       "      <td>0</td>\n",
       "      <td>0.0</td>\n",
       "      <td>0.0</td>\n",
       "      <td>0</td>\n",
       "      <td>0.0</td>\n",
       "      <td>0.0</td>\n",
       "      <td>0.0</td>\n",
       "      <td>0</td>\n",
       "    </tr>\n",
       "    <tr>\n",
       "      <th>190</th>\n",
       "      <td>0.0</td>\n",
       "      <td>0.0</td>\n",
       "      <td>0</td>\n",
       "      <td>0.0</td>\n",
       "      <td>0.0</td>\n",
       "      <td>0.0</td>\n",
       "      <td>0</td>\n",
       "      <td>0.0</td>\n",
       "      <td>0</td>\n",
       "      <td>0.0</td>\n",
       "      <td>...</td>\n",
       "      <td>0.0</td>\n",
       "      <td>0.0</td>\n",
       "      <td>0</td>\n",
       "      <td>0.0</td>\n",
       "      <td>0.0</td>\n",
       "      <td>0</td>\n",
       "      <td>0.0</td>\n",
       "      <td>0.0</td>\n",
       "      <td>0.0</td>\n",
       "      <td>0</td>\n",
       "    </tr>\n",
       "    <tr>\n",
       "      <th>267</th>\n",
       "      <td>0.0</td>\n",
       "      <td>0.0</td>\n",
       "      <td>0</td>\n",
       "      <td>0.0</td>\n",
       "      <td>0.0</td>\n",
       "      <td>0.0</td>\n",
       "      <td>0</td>\n",
       "      <td>0.0</td>\n",
       "      <td>0</td>\n",
       "      <td>0.0</td>\n",
       "      <td>...</td>\n",
       "      <td>0.0</td>\n",
       "      <td>0.0</td>\n",
       "      <td>0</td>\n",
       "      <td>0.0</td>\n",
       "      <td>0.0</td>\n",
       "      <td>0</td>\n",
       "      <td>0.0</td>\n",
       "      <td>0.0</td>\n",
       "      <td>0.0</td>\n",
       "      <td>0</td>\n",
       "    </tr>\n",
       "    <tr>\n",
       "      <th>325</th>\n",
       "      <td>0.0</td>\n",
       "      <td>0.0</td>\n",
       "      <td>0</td>\n",
       "      <td>0.0</td>\n",
       "      <td>0.0</td>\n",
       "      <td>0.0</td>\n",
       "      <td>0</td>\n",
       "      <td>0.0</td>\n",
       "      <td>0</td>\n",
       "      <td>0.0</td>\n",
       "      <td>...</td>\n",
       "      <td>0.0</td>\n",
       "      <td>0.0</td>\n",
       "      <td>0</td>\n",
       "      <td>0.0</td>\n",
       "      <td>0.0</td>\n",
       "      <td>0</td>\n",
       "      <td>0.0</td>\n",
       "      <td>0.0</td>\n",
       "      <td>0.0</td>\n",
       "      <td>0</td>\n",
       "    </tr>\n",
       "    <tr>\n",
       "      <th>383</th>\n",
       "      <td>0.0</td>\n",
       "      <td>0.0</td>\n",
       "      <td>0</td>\n",
       "      <td>0.0</td>\n",
       "      <td>0.0</td>\n",
       "      <td>0.0</td>\n",
       "      <td>0</td>\n",
       "      <td>0.0</td>\n",
       "      <td>0</td>\n",
       "      <td>0.0</td>\n",
       "      <td>...</td>\n",
       "      <td>0.0</td>\n",
       "      <td>0.0</td>\n",
       "      <td>0</td>\n",
       "      <td>0.0</td>\n",
       "      <td>0.0</td>\n",
       "      <td>0</td>\n",
       "      <td>0.0</td>\n",
       "      <td>0.0</td>\n",
       "      <td>0.0</td>\n",
       "      <td>0</td>\n",
       "    </tr>\n",
       "    <tr>\n",
       "      <th>476</th>\n",
       "      <td>0.0</td>\n",
       "      <td>0.0</td>\n",
       "      <td>0</td>\n",
       "      <td>0.0</td>\n",
       "      <td>0.0</td>\n",
       "      <td>0.0</td>\n",
       "      <td>0</td>\n",
       "      <td>0.0</td>\n",
       "      <td>0</td>\n",
       "      <td>0.0</td>\n",
       "      <td>...</td>\n",
       "      <td>0.0</td>\n",
       "      <td>0.0</td>\n",
       "      <td>0</td>\n",
       "      <td>0.0</td>\n",
       "      <td>0.0</td>\n",
       "      <td>0</td>\n",
       "      <td>0.0</td>\n",
       "      <td>0.0</td>\n",
       "      <td>0.0</td>\n",
       "      <td>0</td>\n",
       "    </tr>\n",
       "    <tr>\n",
       "      <th>477</th>\n",
       "      <td>0.0</td>\n",
       "      <td>0.0</td>\n",
       "      <td>0</td>\n",
       "      <td>0.0</td>\n",
       "      <td>0.0</td>\n",
       "      <td>0.0</td>\n",
       "      <td>0</td>\n",
       "      <td>0.0</td>\n",
       "      <td>0</td>\n",
       "      <td>0.0</td>\n",
       "      <td>...</td>\n",
       "      <td>0.0</td>\n",
       "      <td>0.0</td>\n",
       "      <td>0</td>\n",
       "      <td>0.0</td>\n",
       "      <td>0.0</td>\n",
       "      <td>0</td>\n",
       "      <td>0.0</td>\n",
       "      <td>0.0</td>\n",
       "      <td>0.0</td>\n",
       "      <td>0</td>\n",
       "    </tr>\n",
       "    <tr>\n",
       "      <th>493</th>\n",
       "      <td>0.0</td>\n",
       "      <td>0.0</td>\n",
       "      <td>0</td>\n",
       "      <td>0.0</td>\n",
       "      <td>0.0</td>\n",
       "      <td>0.0</td>\n",
       "      <td>0</td>\n",
       "      <td>0.0</td>\n",
       "      <td>0</td>\n",
       "      <td>0.0</td>\n",
       "      <td>...</td>\n",
       "      <td>0.0</td>\n",
       "      <td>0.0</td>\n",
       "      <td>0</td>\n",
       "      <td>0.0</td>\n",
       "      <td>0.0</td>\n",
       "      <td>0</td>\n",
       "      <td>0.0</td>\n",
       "      <td>0.0</td>\n",
       "      <td>0.0</td>\n",
       "      <td>0</td>\n",
       "    </tr>\n",
       "    <tr>\n",
       "      <th>498</th>\n",
       "      <td>0.0</td>\n",
       "      <td>0.0</td>\n",
       "      <td>0</td>\n",
       "      <td>0.0</td>\n",
       "      <td>0.0</td>\n",
       "      <td>0.0</td>\n",
       "      <td>0</td>\n",
       "      <td>0.0</td>\n",
       "      <td>0</td>\n",
       "      <td>0.0</td>\n",
       "      <td>...</td>\n",
       "      <td>0.0</td>\n",
       "      <td>0.0</td>\n",
       "      <td>0</td>\n",
       "      <td>0.0</td>\n",
       "      <td>0.0</td>\n",
       "      <td>0</td>\n",
       "      <td>0.0</td>\n",
       "      <td>0.0</td>\n",
       "      <td>0.0</td>\n",
       "      <td>0</td>\n",
       "    </tr>\n",
       "    <tr>\n",
       "      <th>533</th>\n",
       "      <td>0.0</td>\n",
       "      <td>0.0</td>\n",
       "      <td>0</td>\n",
       "      <td>0.0</td>\n",
       "      <td>0.0</td>\n",
       "      <td>0.0</td>\n",
       "      <td>0</td>\n",
       "      <td>0.0</td>\n",
       "      <td>0</td>\n",
       "      <td>0.0</td>\n",
       "      <td>...</td>\n",
       "      <td>0.0</td>\n",
       "      <td>0.0</td>\n",
       "      <td>0</td>\n",
       "      <td>0.0</td>\n",
       "      <td>0.0</td>\n",
       "      <td>0</td>\n",
       "      <td>0.0</td>\n",
       "      <td>0.0</td>\n",
       "      <td>0.0</td>\n",
       "      <td>0</td>\n",
       "    </tr>\n",
       "    <tr>\n",
       "      <th>545</th>\n",
       "      <td>0.0</td>\n",
       "      <td>0.0</td>\n",
       "      <td>0</td>\n",
       "      <td>0.0</td>\n",
       "      <td>0.0</td>\n",
       "      <td>0.0</td>\n",
       "      <td>0</td>\n",
       "      <td>0.0</td>\n",
       "      <td>0</td>\n",
       "      <td>0.0</td>\n",
       "      <td>...</td>\n",
       "      <td>0.0</td>\n",
       "      <td>0.0</td>\n",
       "      <td>0</td>\n",
       "      <td>0.0</td>\n",
       "      <td>0.0</td>\n",
       "      <td>0</td>\n",
       "      <td>0.0</td>\n",
       "      <td>0.0</td>\n",
       "      <td>0.0</td>\n",
       "      <td>0</td>\n",
       "    </tr>\n",
       "    <tr>\n",
       "      <th>548</th>\n",
       "      <td>0.0</td>\n",
       "      <td>0.0</td>\n",
       "      <td>0</td>\n",
       "      <td>0.0</td>\n",
       "      <td>0.0</td>\n",
       "      <td>0.0</td>\n",
       "      <td>0</td>\n",
       "      <td>0.0</td>\n",
       "      <td>0</td>\n",
       "      <td>0.0</td>\n",
       "      <td>...</td>\n",
       "      <td>0.0</td>\n",
       "      <td>0.0</td>\n",
       "      <td>0</td>\n",
       "      <td>0.0</td>\n",
       "      <td>0.0</td>\n",
       "      <td>0</td>\n",
       "      <td>0.0</td>\n",
       "      <td>0.0</td>\n",
       "      <td>0.0</td>\n",
       "      <td>0</td>\n",
       "    </tr>\n",
       "    <tr>\n",
       "      <th>580</th>\n",
       "      <td>5.0</td>\n",
       "      <td>0.0</td>\n",
       "      <td>0</td>\n",
       "      <td>0.0</td>\n",
       "      <td>0.0</td>\n",
       "      <td>0.0</td>\n",
       "      <td>0</td>\n",
       "      <td>0.0</td>\n",
       "      <td>0</td>\n",
       "      <td>0.0</td>\n",
       "      <td>...</td>\n",
       "      <td>0.0</td>\n",
       "      <td>0.0</td>\n",
       "      <td>0</td>\n",
       "      <td>0.0</td>\n",
       "      <td>0.0</td>\n",
       "      <td>0</td>\n",
       "      <td>0.0</td>\n",
       "      <td>0.0</td>\n",
       "      <td>0.0</td>\n",
       "      <td>0</td>\n",
       "    </tr>\n",
       "    <tr>\n",
       "      <th>622</th>\n",
       "      <td>0.0</td>\n",
       "      <td>0.0</td>\n",
       "      <td>0</td>\n",
       "      <td>0.0</td>\n",
       "      <td>0.0</td>\n",
       "      <td>0.0</td>\n",
       "      <td>0</td>\n",
       "      <td>0.0</td>\n",
       "      <td>0</td>\n",
       "      <td>0.0</td>\n",
       "      <td>...</td>\n",
       "      <td>0.0</td>\n",
       "      <td>0.0</td>\n",
       "      <td>0</td>\n",
       "      <td>0.0</td>\n",
       "      <td>0.0</td>\n",
       "      <td>0</td>\n",
       "      <td>0.0</td>\n",
       "      <td>0.0</td>\n",
       "      <td>0.0</td>\n",
       "      <td>0</td>\n",
       "    </tr>\n",
       "    <tr>\n",
       "      <th>636</th>\n",
       "      <td>0.0</td>\n",
       "      <td>0.0</td>\n",
       "      <td>0</td>\n",
       "      <td>0.0</td>\n",
       "      <td>0.0</td>\n",
       "      <td>0.0</td>\n",
       "      <td>0</td>\n",
       "      <td>0.0</td>\n",
       "      <td>0</td>\n",
       "      <td>0.0</td>\n",
       "      <td>...</td>\n",
       "      <td>0.0</td>\n",
       "      <td>0.0</td>\n",
       "      <td>0</td>\n",
       "      <td>0.0</td>\n",
       "      <td>0.0</td>\n",
       "      <td>0</td>\n",
       "      <td>0.0</td>\n",
       "      <td>0.0</td>\n",
       "      <td>0.0</td>\n",
       "      <td>0</td>\n",
       "    </tr>\n",
       "    <tr>\n",
       "      <th>637</th>\n",
       "      <td>0.0</td>\n",
       "      <td>0.0</td>\n",
       "      <td>0</td>\n",
       "      <td>0.0</td>\n",
       "      <td>0.0</td>\n",
       "      <td>0.0</td>\n",
       "      <td>0</td>\n",
       "      <td>0.0</td>\n",
       "      <td>0</td>\n",
       "      <td>0.0</td>\n",
       "      <td>...</td>\n",
       "      <td>0.0</td>\n",
       "      <td>0.0</td>\n",
       "      <td>0</td>\n",
       "      <td>0.0</td>\n",
       "      <td>0.0</td>\n",
       "      <td>0</td>\n",
       "      <td>0.0</td>\n",
       "      <td>0.0</td>\n",
       "      <td>0.0</td>\n",
       "      <td>0</td>\n",
       "    </tr>\n",
       "  </tbody>\n",
       "</table>\n",
       "<p>20 rows × 3299 columns</p>\n",
       "</div>"
      ],
      "text/plain": [
       "movieID  1      2      3      4      5      6      7      10     11     16     \\\n",
       "userID                                                                          \n",
       "75         0.0    0.0      0    0.0    0.0    0.0      0    0.0      0    0.0   \n",
       "78         0.0    0.0      0    0.0    0.0    0.0      0    0.0      0    0.0   \n",
       "127        0.0    0.0      0    0.0    0.0    0.0      0    0.0      0    0.0   \n",
       "170        0.0    0.0      0    0.0    0.0    0.0      0    0.0      0    0.0   \n",
       "175        0.0    0.0      0    0.0    0.0    0.0      0    0.0      0    0.0   \n",
       "190        0.0    0.0      0    0.0    0.0    0.0      0    0.0      0    0.0   \n",
       "267        0.0    0.0      0    0.0    0.0    0.0      0    0.0      0    0.0   \n",
       "325        0.0    0.0      0    0.0    0.0    0.0      0    0.0      0    0.0   \n",
       "383        0.0    0.0      0    0.0    0.0    0.0      0    0.0      0    0.0   \n",
       "476        0.0    0.0      0    0.0    0.0    0.0      0    0.0      0    0.0   \n",
       "477        0.0    0.0      0    0.0    0.0    0.0      0    0.0      0    0.0   \n",
       "493        0.0    0.0      0    0.0    0.0    0.0      0    0.0      0    0.0   \n",
       "498        0.0    0.0      0    0.0    0.0    0.0      0    0.0      0    0.0   \n",
       "533        0.0    0.0      0    0.0    0.0    0.0      0    0.0      0    0.0   \n",
       "545        0.0    0.0      0    0.0    0.0    0.0      0    0.0      0    0.0   \n",
       "548        0.0    0.0      0    0.0    0.0    0.0      0    0.0      0    0.0   \n",
       "580        5.0    0.0      0    0.0    0.0    0.0      0    0.0      0    0.0   \n",
       "622        0.0    0.0      0    0.0    0.0    0.0      0    0.0      0    0.0   \n",
       "636        0.0    0.0      0    0.0    0.0    0.0      0    0.0      0    0.0   \n",
       "637        0.0    0.0      0    0.0    0.0    0.0      0    0.0      0    0.0   \n",
       "\n",
       "movieID  ...    64976  64983  64986  64990  64997  65011  65037  65126  65130  \\\n",
       "userID   ...                                                                    \n",
       "75       ...      0.0    0.0      0    0.0    0.0      0    0.0    0.0    0.0   \n",
       "78       ...      0.0    0.0      0    0.0    0.0      0    0.0    0.0    0.0   \n",
       "127      ...      0.0    0.0      0    0.0    0.0      0    0.0    0.0    0.0   \n",
       "170      ...      0.0    0.0      0    0.0    0.0      0    0.0    0.0    0.0   \n",
       "175      ...      0.0    0.0      0    0.0    0.0      0    0.0    0.0    0.0   \n",
       "190      ...      0.0    0.0      0    0.0    0.0      0    0.0    0.0    0.0   \n",
       "267      ...      0.0    0.0      0    0.0    0.0      0    0.0    0.0    0.0   \n",
       "325      ...      0.0    0.0      0    0.0    0.0      0    0.0    0.0    0.0   \n",
       "383      ...      0.0    0.0      0    0.0    0.0      0    0.0    0.0    0.0   \n",
       "476      ...      0.0    0.0      0    0.0    0.0      0    0.0    0.0    0.0   \n",
       "477      ...      0.0    0.0      0    0.0    0.0      0    0.0    0.0    0.0   \n",
       "493      ...      0.0    0.0      0    0.0    0.0      0    0.0    0.0    0.0   \n",
       "498      ...      0.0    0.0      0    0.0    0.0      0    0.0    0.0    0.0   \n",
       "533      ...      0.0    0.0      0    0.0    0.0      0    0.0    0.0    0.0   \n",
       "545      ...      0.0    0.0      0    0.0    0.0      0    0.0    0.0    0.0   \n",
       "548      ...      0.0    0.0      0    0.0    0.0      0    0.0    0.0    0.0   \n",
       "580      ...      0.0    0.0      0    0.0    0.0      0    0.0    0.0    0.0   \n",
       "622      ...      0.0    0.0      0    0.0    0.0      0    0.0    0.0    0.0   \n",
       "636      ...      0.0    0.0      0    0.0    0.0      0    0.0    0.0    0.0   \n",
       "637      ...      0.0    0.0      0    0.0    0.0      0    0.0    0.0    0.0   \n",
       "\n",
       "movieID  65133  \n",
       "userID          \n",
       "75           0  \n",
       "78           0  \n",
       "127          0  \n",
       "170          0  \n",
       "175          0  \n",
       "190          0  \n",
       "267          0  \n",
       "325          0  \n",
       "383          0  \n",
       "476          0  \n",
       "477          0  \n",
       "493          0  \n",
       "498          0  \n",
       "533          0  \n",
       "545          0  \n",
       "548          0  \n",
       "580          0  \n",
       "622          0  \n",
       "636          0  \n",
       "637          0  \n",
       "\n",
       "[20 rows x 3299 columns]"
      ]
     },
     "execution_count": 387,
     "metadata": {},
     "output_type": "execute_result"
    }
   ],
   "source": [
    "test_table.head(20)"
   ]
  },
  {
   "cell_type": "code",
   "execution_count": 16,
   "metadata": {
    "collapsed": true
   },
   "outputs": [],
   "source": [
    "test = sparse.csr_matrix(test_table.values)"
   ]
  },
  {
   "cell_type": "code",
   "execution_count": 17,
   "metadata": {
    "collapsed": true
   },
   "outputs": [],
   "source": [
    "val = sparse.csr_matrix(val_table.values)"
   ]
  },
  {
   "cell_type": "code",
   "execution_count": 18,
   "metadata": {
    "collapsed": true
   },
   "outputs": [],
   "source": [
    "train = sparse.csr_matrix(train_table.values)"
   ]
  },
  {
   "cell_type": "markdown",
   "metadata": {},
   "source": [
    "Качество рекомендаций: будем использовать метрики RMSE@k и nDCG@k для $k=5$, описанные ниже.\n",
    "\n",
    "#### RMSE@k\n",
    "\n",
    "Поскольку нас интересуют лишь фильмы, попавшие в блок рекомендаций, качество работы модели можно оценивать при помощи RMSE на $k$ фильмах с наибольшим предсказанным рейтингом, где $k$ — размер блока рекомендаций. Отсортируем предсказанные моделью рейтинги $\\hat{r}_{ui}$ в порядке убывания и обозначим $i$-ый элемент в полученной последовательности за $\\hat{r}_{u(i)},$ а соответствующее этому фильму истинное значение рейтинга — за $r_{u(i)}$. Тогда RMSE@k:\n",
    "\n",
    "$$ \\text{RMSE@k}(u) = \\sqrt{ \\frac{1}{k} \\sum_{i=1}^k (r_{u(i)} - \\hat{r}_{u(i)})^2 },$$\n",
    "$$ \\text{RMSE@k} = \\frac{1}{|U|} \\sum_{u \\in U} \\text{RMSE@k}(u),$$\n",
    "где $U$ — множество пользователей. При вычислении данной метрики все неизвестные оценки будем полагать равными 0.\n",
    "\n",
    "#### nDCG@k\n",
    "\n",
    "Также можно использовать метрику качества ранжирования. Для этого для каждого пользователя $u$ предскажем оценку для всех фильмов из $R^u_{test}$ и отсортируем эти фильмы по убыванию предсказанного рейтинга. Ожидается, что хороший алгоритм должен выдать релевантные фильмы вверху списка. Отсортируем предсказанные моделью рейтинги $\\hat{r}_{ui}$ в порядке убывания и обозначим $i$-ый элемент в полученной последовательности за $\\hat{r}_{u(i)},$ а соответствующее этому фильму истинное значение рейтинга — за $r_{u(i)}.$\n",
    "\n",
    "Тогда nDCG@k :\n",
    "\n",
    "$$\\text{DCG@k}(u) = \\sum_{i=1}^k g(r_{u(i)}) d(i),$$\n",
    "$$\\text{nDCG@k}(u) = \\frac{\\text{DCG@k}(u)}{\\max \\text{DCG@k}(u)},$$\n",
    "$$\\text{nDCG@k} = \\frac{1}{|U|} \\sum_{u \\in U} \\text{nDCG@k}(u),$$\n",
    "где $g(r)$ — функция полезности фильма, а  $d(i)$ — штраф за позицию.\n",
    "\n",
    "Положим $g(r) = 2^r-1, \\, d(i) = \\frac{1}{\\log_2 (i+1)}.$ При вычислении данной метрики все неизвестные оценки будем полагать равными 0."
   ]
  },
  {
   "cell_type": "markdown",
   "metadata": {},
   "source": [
    "**2. (2 балла)** Реализуйте функции rmse_score и ndcg_score, вычисляющие значения описанных выше метрик. Каждая из функций в качестве параметров должна принимать:\n",
    " * y_true — матрицу тестовых рейтингов (сформированную аналогично матрице тестовых рейтингов из предыдущего пункта; функция должна корректно работать и для разреженных, и для плотных матриц);\n",
    " * y_predicted — матрицу предсказаний модели в аналогичном формате (функция должна корректно работать и для разреженных, и для плотных матриц);\n",
    " * k — параметр $k$ в определениях метрик."
   ]
  },
  {
   "cell_type": "code",
   "execution_count": 145,
   "metadata": {},
   "outputs": [],
   "source": [
    "def rmse_score(y_true, y_predicted, k=5):\n",
    "    #import pdb; pdb.set_trace()\n",
    "    if type(y_true) == sparse.csr.csr_matrix:\n",
    "        y_true_ = y_true.toarray()\n",
    "    else:\n",
    "        y_true_ = y_true\n",
    "    if type(y_predicted) == sparse.csr.csr_matrix:\n",
    "        y_predicted_ = y_predicted.toarray()\n",
    "    else:\n",
    "        y_predicted_ = y_predicted\n",
    "        \n",
    "    scores = []\n",
    "    for u in range(y_predicted_.shape[0]):\n",
    "        order = np.argsort(y_predicted_[u])[::-1]\n",
    "        scores.append(np.sqrt(np.power(y_true_[u][order[:k]]-y_predicted_[u][order[:k]],2).mean()))\n",
    "    return np.mean(scores)\n"
   ]
  },
  {
   "cell_type": "code",
   "execution_count": 393,
   "metadata": {},
   "outputs": [],
   "source": [
    "def ndcg_score(y_true, y_predicted, k=5):\n",
    "    if type(y_true) == sparse.csr.csr_matrix:\n",
    "        y_true_ = y_true.toarray()\n",
    "    else:\n",
    "        y_true_ = y_true\n",
    "    if type(y_predicted) == sparse.csr.csr_matrix:\n",
    "        y_predicted_ = y_predicted.toarray()\n",
    "    else:\n",
    "        y_predicted_ = y_predicted\n",
    "    #import pdb; pdb.set_trace()\n",
    "    # YOUR CODE IS HERE\n",
    "    scores = []\n",
    "    for u in range(y_predicted_.shape[0]):\n",
    "        order = np.argsort(y_predicted_[u])[::-1]\n",
    "        #pred_top = y_predicted_[u][order[:k]].copy()\n",
    "        true_top = y_true_[u][order[:k]].copy()\n",
    "        #true_top_sort = np.sort(true_top)[::-1]\n",
    "        max_top = np.sort(y_true_[u])[::-1][:k]\n",
    "        dcg = 0\n",
    "        idcg = 0\n",
    "        for i in range(true_top.shape[0]):\n",
    "            dcg += (2**true_top[i]-1)/math.log(i+2)\n",
    "        for i in range(max_top.shape[0]):\n",
    "            idcg += (2**max_top[i]-1)/math.log(i+2)\n",
    "        \n",
    "        scores.append(dcg/idcg)\n",
    "    #print(len(scores))\n",
    "    return np.mean(scores)"
   ]
  },
  {
   "cell_type": "code",
   "execution_count": 394,
   "metadata": {},
   "outputs": [
    {
     "data": {
      "text/plain": [
       "1.0"
      ]
     },
     "execution_count": 394,
     "metadata": {},
     "output_type": "execute_result"
    }
   ],
   "source": [
    "ndcg_score(test,test,5)"
   ]
  },
  {
   "cell_type": "markdown",
   "metadata": {},
   "source": [
    "**3. (1 балл)** Постройте рекомендации на основе **most popular** метода, при котором предсказанный рейтинг для некоторого фильма $i$ одинаков для всех пользователей и совпадает со средним значением рейтинга по всем пользователям, оценившим этот фильм, и вычислите значения метрик RMSE@5 и nDCG@5 для тестовой матрицы из п. 1."
   ]
  },
  {
   "cell_type": "code",
   "execution_count": 383,
   "metadata": {},
   "outputs": [
    {
     "data": {
      "text/plain": [
       "(2113, 3299)"
      ]
     },
     "execution_count": 383,
     "metadata": {},
     "output_type": "execute_result"
    }
   ],
   "source": [
    "test.shape"
   ]
  },
  {
   "cell_type": "code",
   "execution_count": 115,
   "metadata": {},
   "outputs": [],
   "source": [
    "most_pop = np.zeros((test.shape[0], test.shape[1]))\n",
    "for i in range(test.shape[1]):\n",
    "    col = test[:,i].toarray()\n",
    "    most_pop[:,i] = np.tile([col[np.where(col!=0)].mean()],(test.shape[0],))"
   ]
  },
  {
   "cell_type": "code",
   "execution_count": 395,
   "metadata": {
    "scrolled": true
   },
   "outputs": [
    {
     "data": {
      "text/plain": [
       "4.998750913286794"
      ]
     },
     "execution_count": 395,
     "metadata": {},
     "output_type": "execute_result"
    }
   ],
   "source": [
    "rmse_score(test, most_pop, k=5)"
   ]
  },
  {
   "cell_type": "code",
   "execution_count": 396,
   "metadata": {
    "scrolled": true
   },
   "outputs": [
    {
     "data": {
      "text/plain": [
       "0.00073187451046233276"
      ]
     },
     "execution_count": 396,
     "metadata": {},
     "output_type": "execute_result"
    }
   ],
   "source": [
    "ndcg_score(test, most_pop, k=5)"
   ]
  },
  {
   "cell_type": "markdown",
   "metadata": {},
   "source": [
    "**4. (1 балл)** Реализуйте построение рекомендаций путём разложения матрицы рейтингов с помощью [разреженного SVD](http://scikit-learn.org/stable/modules/generated/sklearn.decomposition.TruncatedSVD.html) (в предположении, что неизвестные рейтинги заменяются на нули) и последующего её восстановления и постройте график зависимости метрик RMSE@5 и nDCG@5 от значения ранга разложения на валидационной выборке (рассмотрите как минимум 10 различных значений ранга разложения)"
   ]
  },
  {
   "cell_type": "code",
   "execution_count": 397,
   "metadata": {
    "collapsed": true
   },
   "outputs": [],
   "source": [
    "from sklearn.decomposition import TruncatedSVD"
   ]
  },
  {
   "cell_type": "code",
   "execution_count": 398,
   "metadata": {
    "collapsed": true
   },
   "outputs": [],
   "source": [
    "comps = np.arange(100,1100,100)"
   ]
  },
  {
   "cell_type": "code",
   "execution_count": 447,
   "metadata": {},
   "outputs": [],
   "source": [
    "rmse_scores = []\n",
    "ndcg_scores = []\n",
    "recs = []\n",
    "for c in comps:\n",
    "    trs = TruncatedSVD(n_components=c)\n",
    "    temp = trs.fit_transform(val)\n",
    "    #print(temp.shape)\n",
    "    val_rec = trs.inverse_transform(temp)\n",
    "    recs.append(val_rec)\n",
    "    rmse_scores.append(rmse_score(val,val_rec))\n",
    "    ndcg_scores.append(ndcg_score(val,val_rec))"
   ]
  },
  {
   "cell_type": "code",
   "execution_count": 400,
   "metadata": {},
   "outputs": [
    {
     "data": {
      "text/plain": [
       "[1.2292137571571435,\n",
       " 1.4872003234211495,\n",
       " 1.5144520517375715,\n",
       " 1.4355931113326765,\n",
       " 1.3216667907874056,\n",
       " 1.1913334208449333,\n",
       " 1.0580456713139086,\n",
       " 0.92832489029867937,\n",
       " 0.799613663560097,\n",
       " 0.67908329450454574]"
      ]
     },
     "execution_count": 400,
     "metadata": {},
     "output_type": "execute_result"
    }
   ],
   "source": [
    "rmse_scores"
   ]
  },
  {
   "cell_type": "code",
   "execution_count": 402,
   "metadata": {},
   "outputs": [
    {
     "data": {
      "text/plain": [
       "[0.45627962811062101,\n",
       " 0.64490709731564244,\n",
       " 0.7550523894606358,\n",
       " 0.82086554845966186,\n",
       " 0.86723886912964954,\n",
       " 0.89915789299501714,\n",
       " 0.9241350861078883,\n",
       " 0.94238417723637102,\n",
       " 0.95580915212450557,\n",
       " 0.96633556434929546]"
      ]
     },
     "execution_count": 402,
     "metadata": {},
     "output_type": "execute_result"
    }
   ],
   "source": [
    "ndcg_scores"
   ]
  },
  {
   "cell_type": "code",
   "execution_count": 459,
   "metadata": {},
   "outputs": [
    {
     "data": {
      "text/plain": [
       "Text(0.5,1,'График зависимости RMSE от ранга разложения.')"
      ]
     },
     "execution_count": 459,
     "metadata": {},
     "output_type": "execute_result"
    },
    {
     "data": {
      "image/png": "[encoded data removed]",
      "text/plain": [
       "<Figure size 864x576 with 1 Axes>"
      ]
     },
     "metadata": {},
     "output_type": "display_data"
    }
   ],
   "source": [
    "plt.figure(figsize=(12,8))\n",
    "plt.plot(comps,rmse_scores)\n",
    "plt.grid(True)\n",
    "plt.xlabel('Ранг')\n",
    "plt.ylabel('RMSE')\n",
    "plt.title('График зависимости RMSE от ранга разложения.')"
   ]
  },
  {
   "cell_type": "code",
   "execution_count": 460,
   "metadata": {},
   "outputs": [
    {
     "data": {
      "text/plain": [
       "Text(0.5,1,'График зависимости nDCG от ранга разложения.')"
      ]
     },
     "execution_count": 460,
     "metadata": {},
     "output_type": "execute_result"
    },
    {
     "data": {
      "image/png": "[encoded data removed]",
      "text/plain": [
       "<Figure size 864x576 with 1 Axes>"
      ]
     },
     "metadata": {},
     "output_type": "display_data"
    }
   ],
   "source": [
    "plt.figure(figsize=(12,8))\n",
    "plt.plot(comps,ndcg_scores)\n",
    "plt.grid(True)\n",
    "plt.xlabel('Ранг')\n",
    "plt.ylabel('nDCG')\n",
    "plt.title('График зависимости nDCG от ранга разложения.')"
   ]
  },
  {
   "cell_type": "markdown",
   "metadata": {
    "collapsed": true
   },
   "source": [
    "**5. (3 балла)** Постройте рекомендации на основе user-based коллаборативной фильтрации. \n",
    "Предсказание модели $\\hat{r}_{ui}$ вычисляйте по следующей формуле:\n",
    "$$\\hat{r}_{ui} = \\bar{r}_{u} + \\frac{\\sum_{v \\in U(u)} w_{uv} (r_{vi} - \\bar{r}_v)}{\\sum_{v \\in U(u)} w_{uv}},$$\n",
    "где $\\bar{r}_u$ — средний ретинг пользователя $u$, $w_{uv}$ — мера сходства пользователей $u$ и $v$, $U(u) = \\{ v \\in U \\, | \\, w_{uv} > \\alpha\\}$ — коллаборация пользователя $u$. \n",
    "\n",
    "Значение параметра $\\alpha$ возьмите равным 0.9.\n",
    "\n",
    "Вычислите значения метрик RMSE@5 и nDCG@5 на тестовой выборке."
   ]
  },
  {
   "cell_type": "code",
   "execution_count": 307,
   "metadata": {
    "collapsed": true
   },
   "outputs": [],
   "source": [
    "def cos_sim(a,b):\n",
    "    return (a.dot(b.transpose()))/(np.linalg.norm(a)*np.linalg.norm(b))"
   ]
  },
  {
   "cell_type": "code",
   "execution_count": 439,
   "metadata": {},
   "outputs": [],
   "source": [
    "def create_afmat(mat_,method='cos'): # рассчет матрицы сходства\n",
    "    if type(mat_) == sparse.csr.csr_matrix:\n",
    "        mat = mat_.toarray()\n",
    "    else:\n",
    "        mat = mat_\n",
    "    afmat = np.zeros((mat.shape[0],mat.shape[0]))\n",
    "    for i in range(mat.shape[0]):\n",
    "        for j in range(mat.shape[0]):\n",
    "            if method == 'cos':\n",
    "                afmat[i,j] = cos_sim(mat[i,:],mat[j,:])\n",
    "            elif method == 'corr':\n",
    "                afmat[i,j] = np.corrcoef(mat[i,:],mat[j,:])[0,1]\n",
    "    return afmat"
   ]
  },
  {
   "cell_type": "code",
   "execution_count": 423,
   "metadata": {
    "collapsed": true
   },
   "outputs": [],
   "source": [
    "def count_means(mat_):\n",
    "    if type(mat_) == sparse.csr.csr_matrix:\n",
    "        mat = mat_.toarray()\n",
    "    else:\n",
    "        mat = mat_\n",
    "    means = np.zeros(mat.shape[0])\n",
    "    for i in range(mat.shape[0]):\n",
    "        means[i] = np.mean(mat[i,:][np.where(mat[i,:]!=0)])\n",
    "    return means"
   ]
  },
  {
   "cell_type": "code",
   "execution_count": 424,
   "metadata": {
    "collapsed": true
   },
   "outputs": [],
   "source": [
    "from IPython.display import clear_output"
   ]
  },
  {
   "cell_type": "code",
   "execution_count": 438,
   "metadata": {},
   "outputs": [],
   "source": [
    "def user_colab(mat_,alpha,method='cos'):\n",
    "    if type(mat_) == sparse.csr.csr_matrix:\n",
    "        mat = mat_.toarray()\n",
    "    else:\n",
    "        mat = mat_\n",
    "    pred_mat = np.zeros((mat.shape[0],mat.shape[1]))\n",
    "    affin_mat = create_afmat(mat)\n",
    "    means = count_means(mat)\n",
    "    for i in range(mat.shape[0]):\n",
    "        ks = []\n",
    "        for k in np.delete(np.arange(mat.shape[0]),i):\n",
    "            if affin_mat[i,k] >= alpha:\n",
    "                ks.append(k)\n",
    "        for j in range(mat.shape[1]):\n",
    "            ch = 0\n",
    "            zn = 0\n",
    "            for k in ks:\n",
    "                ch += affin_mat[i,k]*(mat[k,j]-means[k])\n",
    "                zn += affin_mat[i,k]\n",
    "            \n",
    "            if zn != 0:\n",
    "                pred_mat[i,j] = means[i] + ch/zn\n",
    "            else:\n",
    "                pred_mat[i,j] = means[i]\n",
    "        \n",
    "        print('Done ',i)\n",
    "        clear_output(wait=True)\n",
    "    return pred_mat"
   ]
  },
  {
   "cell_type": "markdown",
   "metadata": {},
   "source": [
    "Применим user-based коллаборативную фильрацию с параметром $\\alpha$ = 0.2 с мерой сходства - корреляция Пирсона."
   ]
  },
  {
   "cell_type": "code",
   "execution_count": 426,
   "metadata": {},
   "outputs": [
    {
     "name": "stdout",
     "output_type": "stream",
     "text": [
      "Done  2112\n"
     ]
    }
   ],
   "source": [
    "v1 = user_colab(test,0.2,'corr')"
   ]
  },
  {
   "cell_type": "code",
   "execution_count": 427,
   "metadata": {},
   "outputs": [
    {
     "data": {
      "text/plain": [
       "1.9183417751796519"
      ]
     },
     "execution_count": 427,
     "metadata": {},
     "output_type": "execute_result"
    }
   ],
   "source": [
    "rmse_score(test,v1)"
   ]
  },
  {
   "cell_type": "code",
   "execution_count": 428,
   "metadata": {},
   "outputs": [
    {
     "data": {
      "text/plain": [
       "0.65356233170951394"
      ]
     },
     "execution_count": 428,
     "metadata": {},
     "output_type": "execute_result"
    }
   ],
   "source": [
    "ndcg_score(test,v1)"
   ]
  },
  {
   "cell_type": "markdown",
   "metadata": {},
   "source": [
    "Применим user-based коллаборативную фильрацию с параметром $\\alpha$ = 0.2 с косинусной мерой сходства."
   ]
  },
  {
   "cell_type": "code",
   "execution_count": 430,
   "metadata": {},
   "outputs": [
    {
     "name": "stdout",
     "output_type": "stream",
     "text": [
      "Done  2112\n"
     ]
    }
   ],
   "source": [
    "v2 = user_colab(test,0.2.'cos')"
   ]
  },
  {
   "cell_type": "code",
   "execution_count": 431,
   "metadata": {},
   "outputs": [
    {
     "data": {
      "text/plain": [
       "1.9246436970335756"
      ]
     },
     "execution_count": 431,
     "metadata": {},
     "output_type": "execute_result"
    }
   ],
   "source": [
    "rmse_score(test,v2)"
   ]
  },
  {
   "cell_type": "code",
   "execution_count": 432,
   "metadata": {},
   "outputs": [
    {
     "data": {
      "text/plain": [
       "0.65414953067242299"
      ]
     },
     "execution_count": 432,
     "metadata": {},
     "output_type": "execute_result"
    }
   ],
   "source": [
    "ndcg_score(test,v2)"
   ]
  },
  {
   "cell_type": "markdown",
   "metadata": {},
   "source": [
    "Применим user-based коллаборативную фильрацию с параметром $\\alpha$ = 0.9 с косинусной мерой сходства."
   ]
  },
  {
   "cell_type": "code",
   "execution_count": 433,
   "metadata": {},
   "outputs": [
    {
     "name": "stdout",
     "output_type": "stream",
     "text": [
      "Done  2112\n"
     ]
    }
   ],
   "source": [
    "v3 = user_colab(test,0.9,'cos')"
   ]
  },
  {
   "cell_type": "code",
   "execution_count": 434,
   "metadata": {},
   "outputs": [
    {
     "data": {
      "text/plain": [
       "3.5948761672691312"
      ]
     },
     "execution_count": 434,
     "metadata": {},
     "output_type": "execute_result"
    }
   ],
   "source": [
    "rmse_score(test,v3)"
   ]
  },
  {
   "cell_type": "code",
   "execution_count": 435,
   "metadata": {},
   "outputs": [
    {
     "data": {
      "text/plain": [
       "0.00080340826311044731"
      ]
     },
     "execution_count": 435,
     "metadata": {},
     "output_type": "execute_result"
    }
   ],
   "source": [
    "ndcg_score(test,v3)"
   ]
  },
  {
   "cell_type": "markdown",
   "metadata": {},
   "source": [
    "При $\\alpha$ = 0.9, работает плохо, так как нет пользователей с коэффициентом похожести не меньше 0.9, в таком случае метод выдает просто среднюю оценку пользователя без поправуи на коллаборацию."
   ]
  },
  {
   "cell_type": "markdown",
   "metadata": {
    "collapsed": true
   },
   "source": [
    "**6. (1 балл)** Какой метод оказался лучше по каким метрикам? Почему?"
   ]
  },
  {
   "cell_type": "markdown",
   "metadata": {
    "collapsed": true
   },
   "source": [
    "При сравнении методов стоит понимать, что очень большое число рейтингов для фильмов неизвестно, поэтому RMSE получалась завышенной, а nDCG - наоборот, заниженной. \n",
    "\n",
    "Тем не менее, можно сказать, что эвристика подхода most popular - выдавать среднюю оценку для фильма слишком проста, чтобы хорошо работать для индивидуальных рекомендаций, ужасные результаты на метриках это подтверждают. Очевидно, этот подход плох тем, что он совершенно не учитывает индивидуальные предпочтения пользователя. \n",
    "\n",
    "Метод с разреженным SVD с точки зрения метрик в некоторой степени можно считать лучшим, однако стоит понимать, что цель SVD - построить лучшее приближение исходной матрицы, матрицей заданного ранга. Таким образом при больших значениях ранга разложения (при которых получаем хорошие оценки с точки зрения метрик), на выходе метода получим матрицу очень близкую к исходной и, например, не сделаем разумных прогнозов рейтингов для фильмов, которые пользователь не смотрел (рейтинги останутся близкими к нулю, при малом значении ранга эта ситуация сильно не меняется).\n",
    "\n",
    "User-based коллаборативная фильтрация показала вполне адекватные результаты, при этом она позволяет проставить разумные оценки фильмам, которые пользователь не смотрел. Ошибка RMSE - 1,9 большая, но стоит помнить о том, что в матрице test очень мало известных рейтингов. Метрика nDCG также пострадала от нехватки большого числа рейтингов но все же показывает результат 0.65. Поскольку значение nDCG $\\in [0,1]$, можно сделать вывод, что модель все же ранжирует фильмы лучше чем случайным образом."
   ]
  },
  {
   "cell_type": "markdown",
   "metadata": {},
   "source": [
    "**7. (1 балл)** Приведите достоинства и недостатки используемых метрик. Какие еще метрики можно было бы использовать для решения задачи? Приведите примеры других постановок задачи, как в этом случае можно было бы оценить качество?"
   ]
  },
  {
   "cell_type": "code",
   "execution_count": null,
   "metadata": {
    "collapsed": true
   },
   "outputs": [],
   "source": []
  }
 ],
 "metadata": {
  "kernelspec": {
   "display_name": "Python 3",
   "language": "python",
   "name": "python3"
  },
  "language_info": {
   "codemirror_mode": {
    "name": "ipython",
    "version": 3
   },
   "file_extension": ".py",
   "mimetype": "text/x-python",
   "name": "python",
   "nbconvert_exporter": "python",
   "pygments_lexer": "ipython3",
   "version": "3.6.3"
  }
 },
 "nbformat": 4,
 "nbformat_minor": 1
}
