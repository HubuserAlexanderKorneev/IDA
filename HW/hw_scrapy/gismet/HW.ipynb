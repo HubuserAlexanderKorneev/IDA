{
 "cells": [
  {
   "cell_type": "code",
   "execution_count": 92,
   "metadata": {
    "collapsed": true
   },
   "outputs": [],
   "source": [
    "import json\n",
    "import pymorphy2\n",
    "import pandas as pd"
   ]
  },
  {
   "cell_type": "code",
   "execution_count": 289,
   "metadata": {
    "collapsed": true
   },
   "outputs": [],
   "source": [
    "data = json.load(open('weather_data.json'))"
   ]
  },
  {
   "cell_type": "code",
   "execution_count": 290,
   "metadata": {
    "collapsed": true
   },
   "outputs": [],
   "source": [
    "data = data[0]\n",
    "headers = data['dd']\n",
    "del data['dd']"
   ]
  },
  {
   "cell_type": "code",
   "execution_count": 291,
   "metadata": {
    "collapsed": true
   },
   "outputs": [],
   "source": [
    "data['Средняя температура']=list(map(lambda x: int(x),np.round((np.array(data['Минимальная температура'])+np.array(data['Максимальная температура']))/2)))"
   ]
  },
  {
   "cell_type": "code",
   "execution_count": 292,
   "metadata": {},
   "outputs": [
    {
     "data": {
      "text/plain": [
       "{'Максимальная температура': [-7, -5, -3, -4, -5, -7, -10, -11, -4, -5],\n",
       " 'Минимальная температура': [-11, -8, -5, -6, -7, -11, -16, -18, -11, -11],\n",
       " 'Скорость ветра': [6, 8, 8, 8, 7, 7, 6, 13, 15, 12],\n",
       " 'Средняя температура': [-9, -6, -4, -5, -6, -9, -13, -14, -8, -8],\n",
       " 'Уровень осадков': [0.5, 0.8, 2.5, 2.0, 4.0, 0.2, 0.0, 2.0, 7.4, 0.6]}"
      ]
     },
     "execution_count": 292,
     "metadata": {},
     "output_type": "execute_result"
    }
   ],
   "source": [
    "data"
   ]
  },
  {
   "cell_type": "code",
   "execution_count": 293,
   "metadata": {},
   "outputs": [
    {
     "data": {
      "text/plain": [
       "['Чт 15.02',\n",
       " 'Пт 16.02',\n",
       " 'Сб 17.02',\n",
       " 'Вс 18.02',\n",
       " 'Пн 19.02',\n",
       " 'Вт 20.02',\n",
       " 'Ср 21.02',\n",
       " 'Чт 22.02',\n",
       " 'Пт 23.02',\n",
       " 'Сб 24.02']"
      ]
     },
     "execution_count": 293,
     "metadata": {},
     "output_type": "execute_result"
    }
   ],
   "source": [
    "headers"
   ]
  },
  {
   "cell_type": "code",
   "execution_count": 294,
   "metadata": {
    "collapsed": true
   },
   "outputs": [],
   "source": [
    "df = pd.DataFrame.from_dict(data).transpose()\n",
    "df.columns = headers"
   ]
  },
  {
   "cell_type": "code",
   "execution_count": 295,
   "metadata": {
    "collapsed": true
   },
   "outputs": [],
   "source": [
    "df = df.reindex(['Максимальная температура','Минимальная температура','Средняя температура','Скорость ветра','Уровень осадков'])"
   ]
  },
  {
   "cell_type": "code",
   "execution_count": 296,
   "metadata": {},
   "outputs": [
    {
     "data": {
      "text/html": [
       "<div>\n",
       "<style>\n",
       "    .dataframe thead tr:only-child th {\n",
       "        text-align: right;\n",
       "    }\n",
       "\n",
       "    .dataframe thead th {\n",
       "        text-align: left;\n",
       "    }\n",
       "\n",
       "    .dataframe tbody tr th {\n",
       "        vertical-align: top;\n",
       "    }\n",
       "</style>\n",
       "<table border=\"1\" class=\"dataframe\">\n",
       "  <thead>\n",
       "    <tr style=\"text-align: right;\">\n",
       "      <th></th>\n",
       "      <th>Чт 15.02</th>\n",
       "      <th>Пт 16.02</th>\n",
       "      <th>Сб 17.02</th>\n",
       "      <th>Вс 18.02</th>\n",
       "      <th>Пн 19.02</th>\n",
       "      <th>Вт 20.02</th>\n",
       "      <th>Ср 21.02</th>\n",
       "      <th>Чт 22.02</th>\n",
       "      <th>Пт 23.02</th>\n",
       "      <th>Сб 24.02</th>\n",
       "    </tr>\n",
       "  </thead>\n",
       "  <tbody>\n",
       "    <tr>\n",
       "      <th>Максимальная температура</th>\n",
       "      <td>-7.0</td>\n",
       "      <td>-5.0</td>\n",
       "      <td>-3.0</td>\n",
       "      <td>-4.0</td>\n",
       "      <td>-5.0</td>\n",
       "      <td>-7.0</td>\n",
       "      <td>-10.0</td>\n",
       "      <td>-11.0</td>\n",
       "      <td>-4.0</td>\n",
       "      <td>-5.0</td>\n",
       "    </tr>\n",
       "    <tr>\n",
       "      <th>Минимальная температура</th>\n",
       "      <td>-11.0</td>\n",
       "      <td>-8.0</td>\n",
       "      <td>-5.0</td>\n",
       "      <td>-6.0</td>\n",
       "      <td>-7.0</td>\n",
       "      <td>-11.0</td>\n",
       "      <td>-16.0</td>\n",
       "      <td>-18.0</td>\n",
       "      <td>-11.0</td>\n",
       "      <td>-11.0</td>\n",
       "    </tr>\n",
       "    <tr>\n",
       "      <th>Средняя температура</th>\n",
       "      <td>-9.0</td>\n",
       "      <td>-6.0</td>\n",
       "      <td>-4.0</td>\n",
       "      <td>-5.0</td>\n",
       "      <td>-6.0</td>\n",
       "      <td>-9.0</td>\n",
       "      <td>-13.0</td>\n",
       "      <td>-14.0</td>\n",
       "      <td>-8.0</td>\n",
       "      <td>-8.0</td>\n",
       "    </tr>\n",
       "    <tr>\n",
       "      <th>Скорость ветра</th>\n",
       "      <td>6.0</td>\n",
       "      <td>8.0</td>\n",
       "      <td>8.0</td>\n",
       "      <td>8.0</td>\n",
       "      <td>7.0</td>\n",
       "      <td>7.0</td>\n",
       "      <td>6.0</td>\n",
       "      <td>13.0</td>\n",
       "      <td>15.0</td>\n",
       "      <td>12.0</td>\n",
       "    </tr>\n",
       "    <tr>\n",
       "      <th>Уровень осадков</th>\n",
       "      <td>0.5</td>\n",
       "      <td>0.8</td>\n",
       "      <td>2.5</td>\n",
       "      <td>2.0</td>\n",
       "      <td>4.0</td>\n",
       "      <td>0.2</td>\n",
       "      <td>0.0</td>\n",
       "      <td>2.0</td>\n",
       "      <td>7.4</td>\n",
       "      <td>0.6</td>\n",
       "    </tr>\n",
       "  </tbody>\n",
       "</table>\n",
       "</div>"
      ],
      "text/plain": [
       "                          Чт 15.02  Пт 16.02  Сб 17.02  Вс 18.02  Пн 19.02  \\\n",
       "Максимальная температура      -7.0      -5.0      -3.0      -4.0      -5.0   \n",
       "Минимальная температура      -11.0      -8.0      -5.0      -6.0      -7.0   \n",
       "Средняя температура           -9.0      -6.0      -4.0      -5.0      -6.0   \n",
       "Скорость ветра                 6.0       8.0       8.0       8.0       7.0   \n",
       "Уровень осадков                0.5       0.8       2.5       2.0       4.0   \n",
       "\n",
       "                          Вт 20.02  Ср 21.02  Чт 22.02  Пт 23.02  Сб 24.02  \n",
       "Максимальная температура      -7.0     -10.0     -11.0      -4.0      -5.0  \n",
       "Минимальная температура      -11.0     -16.0     -18.0     -11.0     -11.0  \n",
       "Средняя температура           -9.0     -13.0     -14.0      -8.0      -8.0  \n",
       "Скорость ветра                 7.0       6.0      13.0      15.0      12.0  \n",
       "Уровень осадков                0.2       0.0       2.0       7.4       0.6  "
      ]
     },
     "execution_count": 296,
     "metadata": {},
     "output_type": "execute_result"
    }
   ],
   "source": [
    "df"
   ]
  },
  {
   "cell_type": "code",
   "execution_count": 146,
   "metadata": {
    "collapsed": true
   },
   "outputs": [],
   "source": [
    "days_dict = {'Пн':'понедельник','Вт':'вторник','Ср':'среда','Чт':'четверг','Пт':'пятница','Сб':'суббота','Вс':'воскресенье'}"
   ]
  },
  {
   "cell_type": "code",
   "execution_count": 37,
   "metadata": {
    "collapsed": true
   },
   "outputs": [],
   "source": [
    "def morph_analyze(word):\n",
    "    morph = pymorphy2.MorphAnalyzer()\n",
    "    return morph.parse(word)[0]"
   ]
  },
  {
   "cell_type": "code",
   "execution_count": 236,
   "metadata": {
    "collapsed": true
   },
   "outputs": [],
   "source": [
    "def prep_day_agree(Prep,Day):\n",
    "    if Prep.lower() == 'в':\n",
    "        if Day == 'вторник':\n",
    "            return morph_analyze(Prep).inflect({'Vpre'}).word +' '+  morph_analyze(Day).inflect({'accs'}).word\n",
    "        else:\n",
    "             return Prep +' '+  morph_analyze(Day).inflect({'accs'}).word   \n",
    "    if Prep.lower() == 'с':\n",
    "        if Day == 'вторник' or Day == 'среда':\n",
    "            return morph_analyze(Prep).inflect({'Vpre'}).word +' '+  morph_analyze(Day).inflect({'ablt'}).word\n",
    "        else:\n",
    "             return Prep +' '+  morph_analyze(Day).inflect({'ablt'}).word   "
   ]
  },
  {
   "cell_type": "code",
   "execution_count": 237,
   "metadata": {
    "collapsed": true
   },
   "outputs": [],
   "source": [
    "def gen_template_temp(D1,D2,City_Name):\n",
    "    D1_day = days_dict[D1.split()[0]]\n",
    "    D1_date = D1.split()[1]\n",
    "    D2_day = days_dict[D2.split()[0]]\n",
    "    D2_date = D2.split()[1]\n",
    "    \n",
    "    temp_trend = ''\n",
    "    City_Name_agreed = morph_analyze(City_Name).inflect({'loct'}).word.title()\n",
    "    \n",
    "    D1_med_temp = int(df[D1]['Средняя температура'])\n",
    "    D2_med_temp = int(df[D2]['Средняя температура'])\n",
    "    \n",
    "    if D1_med_temp > D2_med_temp:\n",
    "        temp_trend = \"потеплеет\"\n",
    "    elif D1_med_temp < D2_med_temp:\n",
    "        temp_trend = \"похолодает\"\n",
    "    else:\n",
    "        #import pdb; pdb.set_trace()\n",
    "        return prep_day_agree('В',D1_day)+' '+D1_date+' в '+City_Name_agreed+' температура не изменится по сравнению '+ prep_day_agree('с',D2_day)+' '+D2_date+' ('+str(D1_med_temp)+' '+morph_analyze('градус').make_agree_with_number(abs(D1_med_temp)).word+' ).'\n",
    "    \n",
    "    return prep_day_agree('В',D1_day).title()+' '+D1_date+' в '+City_Name_agreed+' '+temp_trend+' '+'на '+str(abs(D1_med_temp-D2_med_temp))+' '+morph_analyze('градус').make_agree_with_number(abs(D1_med_temp-D2_med_temp)).word+' по сравнению'+' '+prep_day_agree('с',D2_day)+' '+D2_date+'.'"
   ]
  },
  {
   "cell_type": "code",
   "execution_count": 238,
   "metadata": {},
   "outputs": [
    {
     "name": "stdout",
     "output_type": "stream",
     "text": [
      "В Субботу 24.02 в Москве потеплеет на 1 градус по сравнению с четвергом 15.02.\n",
      "В Субботу 24.02 в Москве похолодает на 2 градуса по сравнению с пятницей 16.02.\n",
      "В Субботу 24.02 в Москве похолодает на 4 градуса по сравнению с субботой 17.02.\n",
      "В Субботу 24.02 в Москве похолодает на 3 градуса по сравнению с воскресеньем 18.02.\n",
      "В Субботу 24.02 в Москве похолодает на 2 градуса по сравнению с понедельником 19.02.\n",
      "В Субботу 24.02 в Москве потеплеет на 1 градус по сравнению со вторником 20.02.\n",
      "В Субботу 24.02 в Москве потеплеет на 5 градусов по сравнению со средой 21.02.\n",
      "В Субботу 24.02 в Москве потеплеет на 6 градусов по сравнению с четвергом 22.02.\n",
      "В субботу 24.02 в Москве температура не изменится по сравнению с пятницей 23.02 (-8 градусов ).\n",
      "В субботу 24.02 в Москве температура не изменится по сравнению с субботой 24.02 (-8 градусов ).\n"
     ]
    }
   ],
   "source": [
    "for day in df.columns:\n",
    "    print(gen_template_temp(df.columns[-1],day,'Москва'))"
   ]
  },
  {
   "cell_type": "code",
   "execution_count": 297,
   "metadata": {},
   "outputs": [
    {
     "data": {
      "text/html": [
       "<div>\n",
       "<style>\n",
       "    .dataframe thead tr:only-child th {\n",
       "        text-align: right;\n",
       "    }\n",
       "\n",
       "    .dataframe thead th {\n",
       "        text-align: left;\n",
       "    }\n",
       "\n",
       "    .dataframe tbody tr th {\n",
       "        vertical-align: top;\n",
       "    }\n",
       "</style>\n",
       "<table border=\"1\" class=\"dataframe\">\n",
       "  <thead>\n",
       "    <tr style=\"text-align: right;\">\n",
       "      <th></th>\n",
       "      <th>Чт 15.02</th>\n",
       "      <th>Пт 16.02</th>\n",
       "      <th>Сб 17.02</th>\n",
       "      <th>Вс 18.02</th>\n",
       "      <th>Пн 19.02</th>\n",
       "      <th>Вт 20.02</th>\n",
       "      <th>Ср 21.02</th>\n",
       "      <th>Чт 22.02</th>\n",
       "      <th>Пт 23.02</th>\n",
       "      <th>Сб 24.02</th>\n",
       "    </tr>\n",
       "  </thead>\n",
       "  <tbody>\n",
       "    <tr>\n",
       "      <th>Максимальная температура</th>\n",
       "      <td>-7.0</td>\n",
       "      <td>-5.0</td>\n",
       "      <td>-3.0</td>\n",
       "      <td>-4.0</td>\n",
       "      <td>-5.0</td>\n",
       "      <td>-7.0</td>\n",
       "      <td>-10.0</td>\n",
       "      <td>-11.0</td>\n",
       "      <td>-4.0</td>\n",
       "      <td>-5.0</td>\n",
       "    </tr>\n",
       "    <tr>\n",
       "      <th>Минимальная температура</th>\n",
       "      <td>-11.0</td>\n",
       "      <td>-8.0</td>\n",
       "      <td>-5.0</td>\n",
       "      <td>-6.0</td>\n",
       "      <td>-7.0</td>\n",
       "      <td>-11.0</td>\n",
       "      <td>-16.0</td>\n",
       "      <td>-18.0</td>\n",
       "      <td>-11.0</td>\n",
       "      <td>-11.0</td>\n",
       "    </tr>\n",
       "    <tr>\n",
       "      <th>Средняя температура</th>\n",
       "      <td>-9.0</td>\n",
       "      <td>-6.0</td>\n",
       "      <td>-4.0</td>\n",
       "      <td>-5.0</td>\n",
       "      <td>-6.0</td>\n",
       "      <td>-9.0</td>\n",
       "      <td>-13.0</td>\n",
       "      <td>-14.0</td>\n",
       "      <td>-8.0</td>\n",
       "      <td>-8.0</td>\n",
       "    </tr>\n",
       "    <tr>\n",
       "      <th>Скорость ветра</th>\n",
       "      <td>6.0</td>\n",
       "      <td>8.0</td>\n",
       "      <td>8.0</td>\n",
       "      <td>8.0</td>\n",
       "      <td>7.0</td>\n",
       "      <td>7.0</td>\n",
       "      <td>6.0</td>\n",
       "      <td>13.0</td>\n",
       "      <td>15.0</td>\n",
       "      <td>12.0</td>\n",
       "    </tr>\n",
       "    <tr>\n",
       "      <th>Уровень осадков</th>\n",
       "      <td>0.5</td>\n",
       "      <td>0.8</td>\n",
       "      <td>2.5</td>\n",
       "      <td>2.0</td>\n",
       "      <td>4.0</td>\n",
       "      <td>0.2</td>\n",
       "      <td>0.0</td>\n",
       "      <td>2.0</td>\n",
       "      <td>7.4</td>\n",
       "      <td>0.6</td>\n",
       "    </tr>\n",
       "  </tbody>\n",
       "</table>\n",
       "</div>"
      ],
      "text/plain": [
       "                          Чт 15.02  Пт 16.02  Сб 17.02  Вс 18.02  Пн 19.02  \\\n",
       "Максимальная температура      -7.0      -5.0      -3.0      -4.0      -5.0   \n",
       "Минимальная температура      -11.0      -8.0      -5.0      -6.0      -7.0   \n",
       "Средняя температура           -9.0      -6.0      -4.0      -5.0      -6.0   \n",
       "Скорость ветра                 6.0       8.0       8.0       8.0       7.0   \n",
       "Уровень осадков                0.5       0.8       2.5       2.0       4.0   \n",
       "\n",
       "                          Вт 20.02  Ср 21.02  Чт 22.02  Пт 23.02  Сб 24.02  \n",
       "Максимальная температура      -7.0     -10.0     -11.0      -4.0      -5.0  \n",
       "Минимальная температура      -11.0     -16.0     -18.0     -11.0     -11.0  \n",
       "Средняя температура           -9.0     -13.0     -14.0      -8.0      -8.0  \n",
       "Скорость ветра                 7.0       6.0      13.0      15.0      12.0  \n",
       "Уровень осадков                0.2       0.0       2.0       7.4       0.6  "
      ]
     },
     "execution_count": 297,
     "metadata": {},
     "output_type": "execute_result"
    }
   ],
   "source": [
    "df"
   ]
  },
  {
   "cell_type": "code",
   "execution_count": 271,
   "metadata": {
    "collapsed": true
   },
   "outputs": [],
   "source": [
    "def num_agree_word(num,word):\n",
    "    if abs(num) == 1:\n",
    "        return morph_analyze(word).inflect({'accs'}).word\n",
    "    else:\n",
    "        return morph_analyze(word).make_agree_with_number(abs(num)).word"
   ]
  },
  {
   "cell_type": "code",
   "execution_count": 299,
   "metadata": {
    "collapsed": true
   },
   "outputs": [],
   "source": [
    "def gen_template_wind(D1,D2):\n",
    "    D1_day = days_dict[D1.split()[0]]\n",
    "    D1_date = D1.split()[1]\n",
    "    D2_day = days_dict[D2.split()[0]]\n",
    "    D2_date = D2.split()[1]\n",
    "    \n",
    "    D1_wind = int(df[D1]['Скорость ветра'])\n",
    "    D2_wind = int(df[D2]['Скорость ветра'])\n",
    "    \n",
    "    return 'Скорость ветра изменится на '+str(D1_wind-D2_wind)+' '+ num_agree_word(D1_wind-D2_wind,'метр')+' в секунду '+' '+prep_day_agree('в',D1_day)+' '+D1_date+' по сравнению'+' '+prep_day_agree('с',D2_day)+' '+D2_date+'.'"
   ]
  },
  {
   "cell_type": "code",
   "execution_count": 300,
   "metadata": {},
   "outputs": [
    {
     "name": "stdout",
     "output_type": "stream",
     "text": [
      "Скорость ветра изменится на 6 метров в секунду  в субботу 24.02 по сравнению с четвергом 15.02.\n",
      "Скорость ветра изменится на 4 метра в секунду  в субботу 24.02 по сравнению с пятницей 16.02.\n",
      "Скорость ветра изменится на 4 метра в секунду  в субботу 24.02 по сравнению с субботой 17.02.\n",
      "Скорость ветра изменится на 4 метра в секунду  в субботу 24.02 по сравнению с воскресеньем 18.02.\n",
      "Скорость ветра изменится на 5 метров в секунду  в субботу 24.02 по сравнению с понедельником 19.02.\n",
      "Скорость ветра изменится на 5 метров в секунду  в субботу 24.02 по сравнению со вторником 20.02.\n",
      "Скорость ветра изменится на 6 метров в секунду  в субботу 24.02 по сравнению со средой 21.02.\n",
      "Скорость ветра изменится на -1 метр в секунду  в субботу 24.02 по сравнению с четвергом 22.02.\n",
      "Скорость ветра изменится на -3 метра в секунду  в субботу 24.02 по сравнению с пятницей 23.02.\n",
      "Скорость ветра изменится на 0 метров в секунду  в субботу 24.02 по сравнению с субботой 24.02.\n"
     ]
    }
   ],
   "source": [
    "for day in df.columns:\n",
    "    print(gen_template_wind(df.columns[-1],day))"
   ]
  },
  {
   "cell_type": "code",
   "execution_count": 298,
   "metadata": {},
   "outputs": [
    {
     "data": {
      "text/html": [
       "<div>\n",
       "<style>\n",
       "    .dataframe thead tr:only-child th {\n",
       "        text-align: right;\n",
       "    }\n",
       "\n",
       "    .dataframe thead th {\n",
       "        text-align: left;\n",
       "    }\n",
       "\n",
       "    .dataframe tbody tr th {\n",
       "        vertical-align: top;\n",
       "    }\n",
       "</style>\n",
       "<table border=\"1\" class=\"dataframe\">\n",
       "  <thead>\n",
       "    <tr style=\"text-align: right;\">\n",
       "      <th></th>\n",
       "      <th>Чт 15.02</th>\n",
       "      <th>Пт 16.02</th>\n",
       "      <th>Сб 17.02</th>\n",
       "      <th>Вс 18.02</th>\n",
       "      <th>Пн 19.02</th>\n",
       "      <th>Вт 20.02</th>\n",
       "      <th>Ср 21.02</th>\n",
       "      <th>Чт 22.02</th>\n",
       "      <th>Пт 23.02</th>\n",
       "      <th>Сб 24.02</th>\n",
       "    </tr>\n",
       "  </thead>\n",
       "  <tbody>\n",
       "    <tr>\n",
       "      <th>Максимальная температура</th>\n",
       "      <td>-7.0</td>\n",
       "      <td>-5.0</td>\n",
       "      <td>-3.0</td>\n",
       "      <td>-4.0</td>\n",
       "      <td>-5.0</td>\n",
       "      <td>-7.0</td>\n",
       "      <td>-10.0</td>\n",
       "      <td>-11.0</td>\n",
       "      <td>-4.0</td>\n",
       "      <td>-5.0</td>\n",
       "    </tr>\n",
       "    <tr>\n",
       "      <th>Минимальная температура</th>\n",
       "      <td>-11.0</td>\n",
       "      <td>-8.0</td>\n",
       "      <td>-5.0</td>\n",
       "      <td>-6.0</td>\n",
       "      <td>-7.0</td>\n",
       "      <td>-11.0</td>\n",
       "      <td>-16.0</td>\n",
       "      <td>-18.0</td>\n",
       "      <td>-11.0</td>\n",
       "      <td>-11.0</td>\n",
       "    </tr>\n",
       "    <tr>\n",
       "      <th>Средняя температура</th>\n",
       "      <td>-9.0</td>\n",
       "      <td>-6.0</td>\n",
       "      <td>-4.0</td>\n",
       "      <td>-5.0</td>\n",
       "      <td>-6.0</td>\n",
       "      <td>-9.0</td>\n",
       "      <td>-13.0</td>\n",
       "      <td>-14.0</td>\n",
       "      <td>-8.0</td>\n",
       "      <td>-8.0</td>\n",
       "    </tr>\n",
       "    <tr>\n",
       "      <th>Скорость ветра</th>\n",
       "      <td>6.0</td>\n",
       "      <td>8.0</td>\n",
       "      <td>8.0</td>\n",
       "      <td>8.0</td>\n",
       "      <td>7.0</td>\n",
       "      <td>7.0</td>\n",
       "      <td>6.0</td>\n",
       "      <td>13.0</td>\n",
       "      <td>15.0</td>\n",
       "      <td>12.0</td>\n",
       "    </tr>\n",
       "    <tr>\n",
       "      <th>Уровень осадков</th>\n",
       "      <td>0.5</td>\n",
       "      <td>0.8</td>\n",
       "      <td>2.5</td>\n",
       "      <td>2.0</td>\n",
       "      <td>4.0</td>\n",
       "      <td>0.2</td>\n",
       "      <td>0.0</td>\n",
       "      <td>2.0</td>\n",
       "      <td>7.4</td>\n",
       "      <td>0.6</td>\n",
       "    </tr>\n",
       "  </tbody>\n",
       "</table>\n",
       "</div>"
      ],
      "text/plain": [
       "                          Чт 15.02  Пт 16.02  Сб 17.02  Вс 18.02  Пн 19.02  \\\n",
       "Максимальная температура      -7.0      -5.0      -3.0      -4.0      -5.0   \n",
       "Минимальная температура      -11.0      -8.0      -5.0      -6.0      -7.0   \n",
       "Средняя температура           -9.0      -6.0      -4.0      -5.0      -6.0   \n",
       "Скорость ветра                 6.0       8.0       8.0       8.0       7.0   \n",
       "Уровень осадков                0.5       0.8       2.5       2.0       4.0   \n",
       "\n",
       "                          Вт 20.02  Ср 21.02  Чт 22.02  Пт 23.02  Сб 24.02  \n",
       "Максимальная температура      -7.0     -10.0     -11.0      -4.0      -5.0  \n",
       "Минимальная температура      -11.0     -16.0     -18.0     -11.0     -11.0  \n",
       "Средняя температура           -9.0     -13.0     -14.0      -8.0      -8.0  \n",
       "Скорость ветра                 7.0       6.0      13.0      15.0      12.0  \n",
       "Уровень осадков                0.2       0.0       2.0       7.4       0.6  "
      ]
     },
     "execution_count": 298,
     "metadata": {},
     "output_type": "execute_result"
    }
   ],
   "source": [
    "df"
   ]
  },
  {
   "cell_type": "code",
   "execution_count": 285,
   "metadata": {},
   "outputs": [
    {
     "data": {
      "text/plain": [
       "1"
      ]
     },
     "execution_count": 285,
     "metadata": {},
     "output_type": "execute_result"
    }
   ],
   "source": [
    "df.columns.get_loc('Пт 16.02')"
   ]
  },
  {
   "cell_type": "code",
   "execution_count": 288,
   "metadata": {},
   "outputs": [
    {
     "data": {
      "text/plain": [
       "10"
      ]
     },
     "execution_count": 288,
     "metadata": {},
     "output_type": "execute_result"
    }
   ],
   "source": [
    "df.columns.shape[0]"
   ]
  },
  {
   "cell_type": "markdown",
   "metadata": {},
   "source": [
    "Уровень осадков повысится / понизится на X единиц за Y дней."
   ]
  },
  {
   "cell_type": "code",
   "execution_count": 318,
   "metadata": {
    "collapsed": true
   },
   "outputs": [],
   "source": [
    "def num_agree_word_prec(num,word):\n",
    "    if num.is_integer():\n",
    "        return morph_analyze(word).make_agree_with_number(int(num)).word\n",
    "    else:\n",
    "        return morph_analyze(word).inflect({'gent'}).word # при смешанном числе существительным управляет дробь"
   ]
  },
  {
   "cell_type": "code",
   "execution_count": 319,
   "metadata": {
    "collapsed": true
   },
   "outputs": [],
   "source": [
    "def gen_template_prec(D,Period):\n",
    "    offset = df.columns.get_loc(D)+Period\n",
    "    if (offset) >= df.columns.shape[0]:\n",
    "        return 'Недостаточно данных в таблице'\n",
    "    \n",
    "    prec_diff = df[df.columns[offset]]['Уровень осадков']-df[D]['Уровень осадков']\n",
    "    prec_trend = ''\n",
    "    \n",
    "    if prec_diff > 0:\n",
    "        prec_trend = 'повысится'\n",
    "    elif prec_diff < 0:\n",
    "        prec_trend = 'понизится'\n",
    "    else:\n",
    "        return 'Уровень осадков не изменится за '+str(Period)+' '+morph_analyze('день').make_agree_with_number(Period).word+' относительно '+D+'.'\n",
    "    return 'Уровень осадков '+prec_trend+' на '+str(abs(prec_diff))+' '+num_agree_word_prec(abs(prec_diff),'миллиметр')+' за '+str(Period)+' '+morph_analyze('день').make_agree_with_number(Period).word+' относительно '+D+'.'"
   ]
  },
  {
   "cell_type": "code",
   "execution_count": 324,
   "metadata": {},
   "outputs": [
    {
     "name": "stdout",
     "output_type": "stream",
     "text": [
      "Уровень осадков повысится на 0.3 миллиметра за 1 день относительно Чт 15.02.\n",
      "Уровень осадков повысится на 2.0 миллиметра за 2 дня относительно Чт 15.02.\n",
      "Уровень осадков повысится на 1.5 миллиметра за 3 дня относительно Чт 15.02.\n",
      "Уровень осадков повысится на 3.5 миллиметра за 4 дня относительно Чт 15.02.\n",
      "Уровень осадков понизится на 0.3 миллиметра за 5 дней относительно Чт 15.02.\n",
      "Уровень осадков понизится на 0.5 миллиметра за 6 дней относительно Чт 15.02.\n",
      "Уровень осадков повысится на 1.5 миллиметра за 7 дней относительно Чт 15.02.\n",
      "Уровень осадков повысится на 6.9 миллиметра за 8 дней относительно Чт 15.02.\n",
      "Уровень осадков повысится на 0.1 миллиметра за 9 дней относительно Чт 15.02.\n"
     ]
    }
   ],
   "source": [
    "for i in range(1,10):\n",
    "    print(gen_template_prec(df.columns[0],i))"
   ]
  },
  {
   "cell_type": "code",
   "execution_count": null,
   "metadata": {
    "collapsed": true
   },
   "outputs": [],
   "source": []
  }
 ],
 "metadata": {
  "kernelspec": {
   "display_name": "Python 3",
   "language": "python",
   "name": "python3"
  },
  "language_info": {
   "codemirror_mode": {
    "name": "ipython",
    "version": 3
   },
   "file_extension": ".py",
   "mimetype": "text/x-python",
   "name": "python",
   "nbconvert_exporter": "python",
   "pygments_lexer": "ipython3",
   "version": "3.6.3"
  }
 },
 "nbformat": 4,
 "nbformat_minor": 2
}
