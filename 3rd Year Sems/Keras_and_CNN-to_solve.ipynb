{
 "cells": [
  {
   "cell_type": "code",
   "execution_count": 1,
   "metadata": {
    "collapsed": false
   },
   "outputs": [
    {
     "name": "stderr",
     "output_type": "stream",
     "text": [
      "Using TensorFlow backend.\n"
     ]
    }
   ],
   "source": [
    "import keras\n",
    "from keras.datasets import mnist, cifar10\n",
    "from keras.models import Sequential\n",
    "from keras.layers import Dense, Dropout, BatchNormalization, Flatten\n",
    "from keras.layers import Conv2D, MaxPooling2D\n",
    "from keras import backend as K\n",
    "\n",
    "import matplotlib.pyplot as plt\n",
    "%matplotlib inline"
   ]
  },
  {
   "cell_type": "markdown",
   "metadata": {},
   "source": [
    "# Fully connected net в Keras"
   ]
  },
  {
   "cell_type": "code",
   "execution_count": 2,
   "metadata": {
    "collapsed": false
   },
   "outputs": [],
   "source": [
    "# загрузим датасет MNIST\n",
    "(x_train, y_train), (x_test, y_test) = mnist.load_data()"
   ]
  },
  {
   "cell_type": "code",
   "execution_count": 3,
   "metadata": {
    "collapsed": false
   },
   "outputs": [
    {
     "data": {
      "text/plain": [
       "(60000, 28, 28)"
      ]
     },
     "execution_count": 3,
     "metadata": {},
     "output_type": "execute_result"
    }
   ],
   "source": [
    "x_train.shape"
   ]
  },
  {
   "cell_type": "code",
   "execution_count": 6,
   "metadata": {
    "collapsed": true
   },
   "outputs": [],
   "source": [
    "# сделаем one-hot encoding для таргетов\n",
    "y_train = keras.utils.to_categorical(y_train, 10)\n",
    "y_test = keras.utils.to_categorical(y_test, 10)"
   ]
  },
  {
   "cell_type": "code",
   "execution_count": 7,
   "metadata": {
    "collapsed": true
   },
   "outputs": [],
   "source": [
    "# опишем модель\n",
    "model = Sequential()\n",
    "model.add(Flatten(input_shape=(28, 28)))\n",
    "model.add(Dense(70, activation='sigmoid'))\n",
    "model.add(Dense(50, activation='sigmoid'))\n",
    "model.add(Dense(10, activation='softmax'))"
   ]
  },
  {
   "cell_type": "code",
   "execution_count": 113,
   "metadata": {
    "collapsed": false,
    "scrolled": true
   },
   "outputs": [
    {
     "name": "stdout",
     "output_type": "stream",
     "text": [
      "Train on 60000 samples, validate on 10000 samples\n",
      "Epoch 1/50\n",
      "60000/60000 [==============================] - 2s - loss: 2.0553 - acc: 0.4949 - val_loss: 1.7960 - val_acc: 0.6783\n",
      "Epoch 2/50\n",
      "60000/60000 [==============================] - 1s - loss: 1.5799 - acc: 0.7172 - val_loss: 1.3510 - val_acc: 0.7644\n",
      "Epoch 3/50\n",
      "60000/60000 [==============================] - 1s - loss: 1.1801 - acc: 0.7918 - val_loss: 1.0117 - val_acc: 0.8201\n",
      "Epoch 4/50\n",
      "60000/60000 [==============================] - 1s - loss: 0.8991 - acc: 0.8353 - val_loss: 0.7895 - val_acc: 0.8504\n",
      "Epoch 5/50\n",
      "60000/60000 [==============================] - 1s - loss: 0.7206 - acc: 0.8586 - val_loss: 0.6503 - val_acc: 0.87420.85\n",
      "Epoch 6/50\n",
      "60000/60000 [==============================] - 1s - loss: 0.6053 - acc: 0.8749 - val_loss: 0.5578 - val_acc: 0.8869\n",
      "Epoch 7/50\n",
      "60000/60000 [==============================] - 1s - loss: 0.5266 - acc: 0.8870 - val_loss: 0.4950 - val_acc: 0.8945\n",
      "Epoch 8/50\n",
      "60000/60000 [==============================] - 1s - loss: 0.4684 - acc: 0.8952 - val_loss: 0.4424 - val_acc: 0.9024\n",
      "Epoch 9/50\n",
      "60000/60000 [==============================] - 1s - loss: 0.4268 - acc: 0.9015 - val_loss: 0.4060 - val_acc: 0.9055\n",
      "Epoch 10/50\n",
      "60000/60000 [==============================] - 1s - loss: 0.3951 - acc: 0.9053 - val_loss: 0.3785 - val_acc: 0.9109\n",
      "Epoch 11/50\n",
      "60000/60000 [==============================] - 1s - loss: 0.3695 - acc: 0.9101 - val_loss: 0.3573 - val_acc: 0.9102\n",
      "Epoch 12/50\n",
      "60000/60000 [==============================] - 1s - loss: 0.3471 - acc: 0.9136 - val_loss: 0.3361 - val_acc: 0.9176\n",
      "Epoch 13/50\n",
      "60000/60000 [==============================] - 1s - loss: 0.3315 - acc: 0.9160 - val_loss: 0.3258 - val_acc: 0.9171\n",
      "Epoch 14/50\n",
      "60000/60000 [==============================] - 1s - loss: 0.3168 - acc: 0.9191 - val_loss: 0.3126 - val_acc: 0.9184\n",
      "Epoch 15/50\n",
      "60000/60000 [==============================] - 1s - loss: 0.3045 - acc: 0.9217 - val_loss: 0.3008 - val_acc: 0.9240\n",
      "Epoch 16/50\n",
      "60000/60000 [==============================] - 1s - loss: 0.2955 - acc: 0.9235 - val_loss: 0.2975 - val_acc: 0.9213\n",
      "Epoch 17/50\n",
      "60000/60000 [==============================] - 1s - loss: 0.2827 - acc: 0.9271 - val_loss: 0.2790 - val_acc: 0.9261\n",
      "Epoch 18/50\n",
      "60000/60000 [==============================] - 1s - loss: 0.2740 - acc: 0.9280 - val_loss: 0.2723 - val_acc: 0.9287\n",
      "Epoch 19/50\n",
      "60000/60000 [==============================] - 1s - loss: 0.2640 - acc: 0.9303 - val_loss: 0.2625 - val_acc: 0.9298\n",
      "Epoch 20/50\n",
      "60000/60000 [==============================] - 1s - loss: 0.2565 - acc: 0.9324 - val_loss: 0.2557 - val_acc: 0.9320\n",
      "Epoch 21/50\n",
      "60000/60000 [==============================] - 1s - loss: 0.2513 - acc: 0.9336 - val_loss: 0.2556 - val_acc: 0.9292\n",
      "Epoch 22/50\n",
      "60000/60000 [==============================] - 1s - loss: 0.2444 - acc: 0.9349 - val_loss: 0.2493 - val_acc: 0.9332\n",
      "Epoch 23/50\n",
      "60000/60000 [==============================] - 1s - loss: 0.2389 - acc: 0.9363 - val_loss: 0.2457 - val_acc: 0.9318\n",
      "Epoch 24/50\n",
      "60000/60000 [==============================] - 1s - loss: 0.2335 - acc: 0.9376 - val_loss: 0.2330 - val_acc: 0.9344\n",
      "Epoch 25/50\n",
      "60000/60000 [==============================] - 1s - loss: 0.2283 - acc: 0.9388 - val_loss: 0.2308 - val_acc: 0.9380\n",
      "Epoch 26/50\n",
      "60000/60000 [==============================] - 1s - loss: 0.2232 - acc: 0.9398 - val_loss: 0.2292 - val_acc: 0.9396\n",
      "Epoch 27/50\n",
      "60000/60000 [==============================] - 1s - loss: 0.2210 - acc: 0.9412 - val_loss: 0.2206 - val_acc: 0.9390\n",
      "Epoch 28/50\n",
      "60000/60000 [==============================] - 1s - loss: 0.2161 - acc: 0.9414 - val_loss: 0.2276 - val_acc: 0.9360\n",
      "Epoch 29/50\n",
      "60000/60000 [==============================] - 1s - loss: 0.2119 - acc: 0.9430 - val_loss: 0.2146 - val_acc: 0.9422\n",
      "Epoch 30/50\n",
      "60000/60000 [==============================] - 1s - loss: 0.2080 - acc: 0.9437 - val_loss: 0.2164 - val_acc: 0.9402\n",
      "Epoch 31/50\n",
      "60000/60000 [==============================] - 1s - loss: 0.2070 - acc: 0.9434 - val_loss: 0.2147 - val_acc: 0.9409\n",
      "Epoch 32/50\n",
      "60000/60000 [==============================] - 1s - loss: 0.2016 - acc: 0.9457 - val_loss: 0.2079 - val_acc: 0.9419\n",
      "Epoch 33/50\n",
      "60000/60000 [==============================] - 1s - loss: 0.1948 - acc: 0.9465 - val_loss: 0.2095 - val_acc: 0.9410\n",
      "Epoch 34/50\n",
      "60000/60000 [==============================] - 1s - loss: 0.2003 - acc: 0.9456 - val_loss: 0.2033 - val_acc: 0.9449\n",
      "Epoch 35/50\n",
      "60000/60000 [==============================] - 1s - loss: 0.1922 - acc: 0.9474 - val_loss: 0.2052 - val_acc: 0.9435\n",
      "Epoch 36/50\n",
      "60000/60000 [==============================] - 1s - loss: 0.1890 - acc: 0.9488 - val_loss: 0.1950 - val_acc: 0.9463\n",
      "Epoch 37/50\n",
      "60000/60000 [==============================] - 2s - loss: 0.1866 - acc: 0.9481 - val_loss: 0.1942 - val_acc: 0.9457\n",
      "Epoch 38/50\n",
      "60000/60000 [==============================] - 1s - loss: 0.1827 - acc: 0.9507 - val_loss: 0.1962 - val_acc: 0.9440\n",
      "Epoch 39/50\n",
      "60000/60000 [==============================] - 1s - loss: 0.1800 - acc: 0.9512 - val_loss: 0.1935 - val_acc: 0.9445\n",
      "Epoch 40/50\n",
      "60000/60000 [==============================] - 1s - loss: 0.1791 - acc: 0.9509 - val_loss: 0.1884 - val_acc: 0.9466\n",
      "Epoch 41/50\n",
      "60000/60000 [==============================] - 1s - loss: 0.1778 - acc: 0.9514 - val_loss: 0.1843 - val_acc: 0.9474\n",
      "Epoch 42/50\n",
      "60000/60000 [==============================] - 1s - loss: 0.1713 - acc: 0.9529 - val_loss: 0.1870 - val_acc: 0.9467\n",
      "Epoch 43/50\n",
      "60000/60000 [==============================] - 1s - loss: 0.1707 - acc: 0.9535 - val_loss: 0.1831 - val_acc: 0.9467\n",
      "Epoch 44/50\n",
      "60000/60000 [==============================] - 1s - loss: 0.1681 - acc: 0.9529 - val_loss: 0.1808 - val_acc: 0.9474\n",
      "Epoch 45/50\n",
      "60000/60000 [==============================] - 1s - loss: 0.1692 - acc: 0.9528 - val_loss: 0.1919 - val_acc: 0.9461\n",
      "Epoch 46/50\n",
      "60000/60000 [==============================] - 1s - loss: 0.1678 - acc: 0.9534 - val_loss: 0.1770 - val_acc: 0.9494\n",
      "Epoch 47/50\n",
      "60000/60000 [==============================] - 1s - loss: 0.1615 - acc: 0.9551 - val_loss: 0.1780 - val_acc: 0.9510\n",
      "Epoch 48/50\n",
      "60000/60000 [==============================] - 1s - loss: 0.1606 - acc: 0.9555 - val_loss: 0.1716 - val_acc: 0.9521\n",
      "Epoch 49/50\n",
      "60000/60000 [==============================] - 1s - loss: 0.1596 - acc: 0.9562 - val_loss: 0.1727 - val_acc: 0.95130.956\n",
      "Epoch 50/50\n",
      "60000/60000 [==============================] - 1s - loss: 0.1560 - acc: 0.9574 - val_loss: 0.1735 - val_acc: 0.9526\n",
      "Test loss: 0.173533196527\n",
      "Test accuracy: 0.9526\n"
     ]
    }
   ],
   "source": [
    "#обучим\n",
    "model.compile(loss=keras.losses.categorical_crossentropy,\n",
    "              optimizer=keras.optimizers.SGD(lr=0.1),\n",
    "              metrics=['accuracy'])\n",
    "\n",
    "history = model.fit(x_train, y_train,\n",
    "          batch_size=1000,\n",
    "          epochs=50,\n",
    "          verbose=1,\n",
    "          validation_data=(x_test, y_test))\n",
    "score = model.evaluate(x_test, y_test, verbose=0)\n",
    "print('Test loss:', score[0])\n",
    "print('Test accuracy:', score[1])"
   ]
  },
  {
   "cell_type": "code",
   "execution_count": 100,
   "metadata": {
    "collapsed": false
   },
   "outputs": [
    {
     "data": {
      "text/plain": [
       "[<matplotlib.lines.Line2D at 0x1a1b456a20>]"
      ]
     },
     "execution_count": 100,
     "metadata": {},
     "output_type": "execute_result"
    },
    {
     "data": {
      "image/png": "[encoded data removed]",
      "text/plain": [
       "<matplotlib.figure.Figure at 0x1a1b42e908>"
      ]
     },
     "metadata": {},
     "output_type": "display_data"
    }
   ],
   "source": [
    "# динамику обучения можно посмотреть через объект history, которую возвращает model.fit\n",
    "\n",
    "plt.figure(figsize=(15, 5))\n",
    "\n",
    "plt.subplot(1, 2, 1)\n",
    "plt.title(\"Loss\")\n",
    "plt.xlabel(\"Iter num\")\n",
    "plt.plot(history.history[\"loss\"])\n",
    "\n",
    "plt.subplot(1, 2, 2)\n",
    "plt.title(\"Accuracy on test\")\n",
    "plt.xlabel(\"Iter num\")\n",
    "plt.plot(history.history[\"acc\"])"
   ]
  },
  {
   "cell_type": "code",
   "execution_count": 101,
   "metadata": {
    "collapsed": true
   },
   "outputs": [],
   "source": [
    "#сравните графики loss'a и accuracy для разного количества внутренних слоёв FCN"
   ]
  },
  {
   "cell_type": "markdown",
   "metadata": {},
   "source": [
    "## Batch Normalisation"
   ]
  },
  {
   "cell_type": "markdown",
   "metadata": {},
   "source": [
    "Для ускорения обучения полносвязных нейронных сетей следует применять технику Batch Normalisation. Она преобразует активации нейронов слоя, после которого стоит так, чтобы они имели нулевое матожидание и единичную дисперсию. Такое преобразование позволяет ослабить угасание градиентов."
   ]
  },
  {
   "cell_type": "code",
   "execution_count": 3,
   "metadata": {
    "collapsed": true
   },
   "outputs": [],
   "source": [
    "# после каждого Dense слоя сделайте model.add(BatchNormalization())\n",
    "# сравните графики изменения loss и accuracу для сети с BN и без него"
   ]
  },
  {
   "cell_type": "markdown",
   "metadata": {},
   "source": [
    "## Dropout"
   ]
  },
  {
   "cell_type": "code",
   "execution_count": 4,
   "metadata": {
    "collapsed": true
   },
   "outputs": [],
   "source": [
    "# после каждого Dense слоя сделайте model.add(Dropout(0.25))\n",
    "# сравните графики изменения loss и accuracу для сети с DO и без него"
   ]
  },
  {
   "cell_type": "markdown",
   "metadata": {},
   "source": [
    "# Convolutional Neural Network"
   ]
  },
  {
   "cell_type": "code",
   "execution_count": 8,
   "metadata": {
    "collapsed": false
   },
   "outputs": [
    {
     "name": "stdout",
     "output_type": "stream",
     "text": [
      "Downloading data from http://www.cs.toronto.edu/~kriz/cifar-10-python.tar.gz\n",
      "170426368/170498071 [============================>.] - ETA: 0s"
     ]
    }
   ],
   "source": [
    "# загрузим датасет MNIST\n",
    "(x_train, y_train), (x_test, y_test) = cifar10.load_data()"
   ]
  },
  {
   "cell_type": "code",
   "execution_count": 21,
   "metadata": {
    "collapsed": false
   },
   "outputs": [
    {
     "data": {
      "text/plain": [
       "(50000, 32, 32, 3)"
      ]
     },
     "execution_count": 21,
     "metadata": {},
     "output_type": "execute_result"
    }
   ],
   "source": [
    "x_train.shape"
   ]
  },
  {
   "cell_type": "raw",
   "metadata": {},
   "source": [
    "plt.imshow(x_train[512])"
   ]
  },
  {
   "cell_type": "code",
   "execution_count": 15,
   "metadata": {
    "collapsed": true
   },
   "outputs": [],
   "source": [
    "x_train = x_train.astype('float32')\n",
    "x_test = x_test.astype('float32')\n",
    "x_train /= 255\n",
    "x_test /= 255"
   ]
  },
  {
   "cell_type": "code",
   "execution_count": 35,
   "metadata": {
    "collapsed": false
   },
   "outputs": [
    {
     "data": {
      "text/plain": [
       "(32, 32, 3)"
      ]
     },
     "execution_count": 35,
     "metadata": {},
     "output_type": "execute_result"
    }
   ],
   "source": [
    "x_train[512].shape"
   ]
  },
  {
   "cell_type": "code",
   "execution_count": 16,
   "metadata": {
    "collapsed": false
   },
   "outputs": [
    {
     "data": {
      "text/plain": [
       "<matplotlib.image.AxesImage at 0x7f7e03ef7e10>"
      ]
     },
     "execution_count": 16,
     "metadata": {},
     "output_type": "execute_result"
    },
    {
     "data": {
      "image/png": "[encoded data removed]",
      "text/plain": [
       "<matplotlib.figure.Figure at 0x7f7e03f32908>"
      ]
     },
     "metadata": {},
     "output_type": "display_data"
    }
   ],
   "source": [
    "plt.imshow(x_train[512])"
   ]
  },
  {
   "cell_type": "code",
   "execution_count": 17,
   "metadata": {
    "collapsed": true
   },
   "outputs": [],
   "source": [
    "# сделаем one-hot encoding для таргетов\n",
    "y_train = keras.utils.to_categorical(y_train, 10)\n",
    "y_test = keras.utils.to_categorical(y_test, 10)"
   ]
  },
  {
   "cell_type": "code",
   "execution_count": 42,
   "metadata": {
    "collapsed": true
   },
   "outputs": [],
   "source": [
    "import numpy as np"
   ]
  },
  {
   "cell_type": "code",
   "execution_count": 44,
   "metadata": {
    "collapsed": true
   },
   "outputs": [],
   "source": [
    "obj = np.random.normal(size=(2,2,3))"
   ]
  },
  {
   "cell_type": "code",
   "execution_count": 45,
   "metadata": {
    "collapsed": false
   },
   "outputs": [
    {
     "data": {
      "text/plain": [
       "<matplotlib.image.AxesImage at 0x7f7e03f06550>"
      ]
     },
     "execution_count": 45,
     "metadata": {},
     "output_type": "execute_result"
    },
    {
     "data": {
      "image/png": "[encoded data removed]",
      "text/plain": [
       "<matplotlib.figure.Figure at 0x7f7e03bd6cc0>"
      ]
     },
     "metadata": {},
     "output_type": "display_data"
    }
   ],
   "source": [
    "plt.imshow(obj)"
   ]
  },
  {
   "cell_type": "code",
   "execution_count": 52,
   "metadata": {
    "collapsed": false
   },
   "outputs": [],
   "source": [
    "# описываем модель\n",
    "\n",
    "input_shape=(2, 2, 3)\n",
    "num_classes = 10\n",
    "\n",
    "model = Sequential()\n",
    "model.add(Conv2D(1, kernel_size=(2, 2),\n",
    "                 activation='relu',\n",
    "                 input_shape=input_shape,kernel_initializer = keras.initializers.Ones()))"
   ]
  },
  {
   "cell_type": "code",
   "execution_count": 56,
   "metadata": {
    "collapsed": true
   },
   "outputs": [],
   "source": [
    "model.compile(loss=keras.losses.categorical_crossentropy,\n",
    "              optimizer=keras.optimizers.Adadelta(),\n",
    "              metrics=['accuracy'])"
   ]
  },
  {
   "cell_type": "code",
   "execution_count": 53,
   "metadata": {
    "collapsed": true
   },
   "outputs": [],
   "source": [
    "t1 = model.predict(obj.reshape(1,2,2,3))"
   ]
  },
  {
   "cell_type": "code",
   "execution_count": 54,
   "metadata": {
    "collapsed": false
   },
   "outputs": [
    {
     "data": {
      "text/plain": [
       "array([[[[ 0.]]]], dtype=float32)"
      ]
     },
     "execution_count": 54,
     "metadata": {},
     "output_type": "execute_result"
    }
   ],
   "source": [
    "t1"
   ]
  },
  {
   "cell_type": "code",
   "execution_count": 57,
   "metadata": {
    "collapsed": false
   },
   "outputs": [
    {
     "data": {
      "text/plain": [
       "[<tf.Variable 'conv2d_6/kernel:0' shape=(2, 2, 3, 1) dtype=float32_ref>,\n",
       " <tf.Variable 'conv2d_6/bias:0' shape=(1,) dtype=float32_ref>]"
      ]
     },
     "execution_count": 57,
     "metadata": {},
     "output_type": "execute_result"
    }
   ],
   "source": [
    "model.weights"
   ]
  },
  {
   "cell_type": "code",
   "execution_count": 133,
   "metadata": {
    "collapsed": false,
    "scrolled": true
   },
   "outputs": [
    {
     "name": "stdout",
     "output_type": "stream",
     "text": [
      "Train on 50000 samples, validate on 10000 samples\n",
      "Epoch 1/50\n",
      "20400/50000 [===========>..................] - ETA: 211s - loss: 2.1616 - acc: 0.2050"
     ]
    },
    {
     "ename": "KeyboardInterrupt",
     "evalue": "",
     "output_type": "error",
     "traceback": [
      "\u001b[0;31m---------------------------------------------------------------------------\u001b[0m",
      "\u001b[0;31mKeyboardInterrupt\u001b[0m                         Traceback (most recent call last)",
      "\u001b[0;32m<ipython-input-133-7bbb218100e6>\u001b[0m in \u001b[0;36m<module>\u001b[0;34m()\u001b[0m\n\u001b[1;32m     10\u001b[0m           \u001b[0mepochs\u001b[0m\u001b[0;34m=\u001b[0m\u001b[0mepochs\u001b[0m\u001b[0;34m,\u001b[0m\u001b[0;34m\u001b[0m\u001b[0m\n\u001b[1;32m     11\u001b[0m           \u001b[0mverbose\u001b[0m\u001b[0;34m=\u001b[0m\u001b[0;36m1\u001b[0m\u001b[0;34m,\u001b[0m\u001b[0;34m\u001b[0m\u001b[0m\n\u001b[0;32m---> 12\u001b[0;31m           validation_data=(x_test, y_test))\n\u001b[0m\u001b[1;32m     13\u001b[0m \u001b[0mscore\u001b[0m \u001b[0;34m=\u001b[0m \u001b[0mmodel\u001b[0m\u001b[0;34m.\u001b[0m\u001b[0mevaluate\u001b[0m\u001b[0;34m(\u001b[0m\u001b[0mx_test\u001b[0m\u001b[0;34m,\u001b[0m \u001b[0my_test\u001b[0m\u001b[0;34m,\u001b[0m \u001b[0mverbose\u001b[0m\u001b[0;34m=\u001b[0m\u001b[0;36m0\u001b[0m\u001b[0;34m)\u001b[0m\u001b[0;34m\u001b[0m\u001b[0m\n\u001b[1;32m     14\u001b[0m \u001b[0mprint\u001b[0m\u001b[0;34m(\u001b[0m\u001b[0;34m'Test loss:'\u001b[0m\u001b[0;34m,\u001b[0m \u001b[0mscore\u001b[0m\u001b[0;34m[\u001b[0m\u001b[0;36m0\u001b[0m\u001b[0;34m]\u001b[0m\u001b[0;34m)\u001b[0m\u001b[0;34m\u001b[0m\u001b[0m\n",
      "\u001b[0;32m~/.anaconda3/lib/python3.5/site-packages/keras/models.py\u001b[0m in \u001b[0;36mfit\u001b[0;34m(self, x, y, batch_size, epochs, verbose, callbacks, validation_split, validation_data, shuffle, class_weight, sample_weight, initial_epoch, **kwargs)\u001b[0m\n\u001b[1;32m    865\u001b[0m                               \u001b[0mclass_weight\u001b[0m\u001b[0;34m=\u001b[0m\u001b[0mclass_weight\u001b[0m\u001b[0;34m,\u001b[0m\u001b[0;34m\u001b[0m\u001b[0m\n\u001b[1;32m    866\u001b[0m                               \u001b[0msample_weight\u001b[0m\u001b[0;34m=\u001b[0m\u001b[0msample_weight\u001b[0m\u001b[0;34m,\u001b[0m\u001b[0;34m\u001b[0m\u001b[0m\n\u001b[0;32m--> 867\u001b[0;31m                               initial_epoch=initial_epoch)\n\u001b[0m\u001b[1;32m    868\u001b[0m \u001b[0;34m\u001b[0m\u001b[0m\n\u001b[1;32m    869\u001b[0m     def evaluate(self, x, y, batch_size=32, verbose=1,\n",
      "\u001b[0;32m~/.anaconda3/lib/python3.5/site-packages/keras/engine/training.py\u001b[0m in \u001b[0;36mfit\u001b[0;34m(self, x, y, batch_size, epochs, verbose, callbacks, validation_split, validation_data, shuffle, class_weight, sample_weight, initial_epoch, steps_per_epoch, validation_steps, **kwargs)\u001b[0m\n\u001b[1;32m   1596\u001b[0m                               \u001b[0minitial_epoch\u001b[0m\u001b[0;34m=\u001b[0m\u001b[0minitial_epoch\u001b[0m\u001b[0;34m,\u001b[0m\u001b[0;34m\u001b[0m\u001b[0m\n\u001b[1;32m   1597\u001b[0m                               \u001b[0msteps_per_epoch\u001b[0m\u001b[0;34m=\u001b[0m\u001b[0msteps_per_epoch\u001b[0m\u001b[0;34m,\u001b[0m\u001b[0;34m\u001b[0m\u001b[0m\n\u001b[0;32m-> 1598\u001b[0;31m                               validation_steps=validation_steps)\n\u001b[0m\u001b[1;32m   1599\u001b[0m \u001b[0;34m\u001b[0m\u001b[0m\n\u001b[1;32m   1600\u001b[0m     def evaluate(self, x, y,\n",
      "\u001b[0;32m~/.anaconda3/lib/python3.5/site-packages/keras/engine/training.py\u001b[0m in \u001b[0;36m_fit_loop\u001b[0;34m(self, f, ins, out_labels, batch_size, epochs, verbose, callbacks, val_f, val_ins, shuffle, callback_metrics, initial_epoch, steps_per_epoch, validation_steps)\u001b[0m\n\u001b[1;32m   1181\u001b[0m                     \u001b[0mbatch_logs\u001b[0m\u001b[0;34m[\u001b[0m\u001b[0;34m'size'\u001b[0m\u001b[0;34m]\u001b[0m \u001b[0;34m=\u001b[0m \u001b[0mlen\u001b[0m\u001b[0;34m(\u001b[0m\u001b[0mbatch_ids\u001b[0m\u001b[0;34m)\u001b[0m\u001b[0;34m\u001b[0m\u001b[0m\n\u001b[1;32m   1182\u001b[0m                     \u001b[0mcallbacks\u001b[0m\u001b[0;34m.\u001b[0m\u001b[0mon_batch_begin\u001b[0m\u001b[0;34m(\u001b[0m\u001b[0mbatch_index\u001b[0m\u001b[0;34m,\u001b[0m \u001b[0mbatch_logs\u001b[0m\u001b[0;34m)\u001b[0m\u001b[0;34m\u001b[0m\u001b[0m\n\u001b[0;32m-> 1183\u001b[0;31m                     \u001b[0mouts\u001b[0m \u001b[0;34m=\u001b[0m \u001b[0mf\u001b[0m\u001b[0;34m(\u001b[0m\u001b[0mins_batch\u001b[0m\u001b[0;34m)\u001b[0m\u001b[0;34m\u001b[0m\u001b[0m\n\u001b[0m\u001b[1;32m   1184\u001b[0m                     \u001b[0;32mif\u001b[0m \u001b[0;32mnot\u001b[0m \u001b[0misinstance\u001b[0m\u001b[0;34m(\u001b[0m\u001b[0mouts\u001b[0m\u001b[0;34m,\u001b[0m \u001b[0mlist\u001b[0m\u001b[0;34m)\u001b[0m\u001b[0;34m:\u001b[0m\u001b[0;34m\u001b[0m\u001b[0m\n\u001b[1;32m   1185\u001b[0m                         \u001b[0mouts\u001b[0m \u001b[0;34m=\u001b[0m \u001b[0;34m[\u001b[0m\u001b[0mouts\u001b[0m\u001b[0;34m]\u001b[0m\u001b[0;34m\u001b[0m\u001b[0m\n",
      "\u001b[0;32m~/.anaconda3/lib/python3.5/site-packages/keras/backend/tensorflow_backend.py\u001b[0m in \u001b[0;36m__call__\u001b[0;34m(self, inputs)\u001b[0m\n\u001b[1;32m   2271\u001b[0m         updated = session.run(self.outputs + [self.updates_op],\n\u001b[1;32m   2272\u001b[0m                               \u001b[0mfeed_dict\u001b[0m\u001b[0;34m=\u001b[0m\u001b[0mfeed_dict\u001b[0m\u001b[0;34m,\u001b[0m\u001b[0;34m\u001b[0m\u001b[0m\n\u001b[0;32m-> 2273\u001b[0;31m                               **self.session_kwargs)\n\u001b[0m\u001b[1;32m   2274\u001b[0m         \u001b[0;32mreturn\u001b[0m \u001b[0mupdated\u001b[0m\u001b[0;34m[\u001b[0m\u001b[0;34m:\u001b[0m\u001b[0mlen\u001b[0m\u001b[0;34m(\u001b[0m\u001b[0mself\u001b[0m\u001b[0;34m.\u001b[0m\u001b[0moutputs\u001b[0m\u001b[0;34m)\u001b[0m\u001b[0;34m]\u001b[0m\u001b[0;34m\u001b[0m\u001b[0m\n\u001b[1;32m   2275\u001b[0m \u001b[0;34m\u001b[0m\u001b[0m\n",
      "\u001b[0;32m~/.anaconda3/lib/python3.5/site-packages/tensorflow/python/client/session.py\u001b[0m in \u001b[0;36mrun\u001b[0;34m(self, fetches, feed_dict, options, run_metadata)\u001b[0m\n\u001b[1;32m    893\u001b[0m     \u001b[0;32mtry\u001b[0m\u001b[0;34m:\u001b[0m\u001b[0;34m\u001b[0m\u001b[0m\n\u001b[1;32m    894\u001b[0m       result = self._run(None, fetches, feed_dict, options_ptr,\n\u001b[0;32m--> 895\u001b[0;31m                          run_metadata_ptr)\n\u001b[0m\u001b[1;32m    896\u001b[0m       \u001b[0;32mif\u001b[0m \u001b[0mrun_metadata\u001b[0m\u001b[0;34m:\u001b[0m\u001b[0;34m\u001b[0m\u001b[0m\n\u001b[1;32m    897\u001b[0m         \u001b[0mproto_data\u001b[0m \u001b[0;34m=\u001b[0m \u001b[0mtf_session\u001b[0m\u001b[0;34m.\u001b[0m\u001b[0mTF_GetBuffer\u001b[0m\u001b[0;34m(\u001b[0m\u001b[0mrun_metadata_ptr\u001b[0m\u001b[0;34m)\u001b[0m\u001b[0;34m\u001b[0m\u001b[0m\n",
      "\u001b[0;32m~/.anaconda3/lib/python3.5/site-packages/tensorflow/python/client/session.py\u001b[0m in \u001b[0;36m_run\u001b[0;34m(self, handle, fetches, feed_dict, options, run_metadata)\u001b[0m\n\u001b[1;32m   1122\u001b[0m     \u001b[0;32mif\u001b[0m \u001b[0mfinal_fetches\u001b[0m \u001b[0;32mor\u001b[0m \u001b[0mfinal_targets\u001b[0m \u001b[0;32mor\u001b[0m \u001b[0;34m(\u001b[0m\u001b[0mhandle\u001b[0m \u001b[0;32mand\u001b[0m \u001b[0mfeed_dict_tensor\u001b[0m\u001b[0;34m)\u001b[0m\u001b[0;34m:\u001b[0m\u001b[0;34m\u001b[0m\u001b[0m\n\u001b[1;32m   1123\u001b[0m       results = self._do_run(handle, final_targets, final_fetches,\n\u001b[0;32m-> 1124\u001b[0;31m                              feed_dict_tensor, options, run_metadata)\n\u001b[0m\u001b[1;32m   1125\u001b[0m     \u001b[0;32melse\u001b[0m\u001b[0;34m:\u001b[0m\u001b[0;34m\u001b[0m\u001b[0m\n\u001b[1;32m   1126\u001b[0m       \u001b[0mresults\u001b[0m \u001b[0;34m=\u001b[0m \u001b[0;34m[\u001b[0m\u001b[0;34m]\u001b[0m\u001b[0;34m\u001b[0m\u001b[0m\n",
      "\u001b[0;32m~/.anaconda3/lib/python3.5/site-packages/tensorflow/python/client/session.py\u001b[0m in \u001b[0;36m_do_run\u001b[0;34m(self, handle, target_list, fetch_list, feed_dict, options, run_metadata)\u001b[0m\n\u001b[1;32m   1319\u001b[0m     \u001b[0;32mif\u001b[0m \u001b[0mhandle\u001b[0m \u001b[0;32mis\u001b[0m \u001b[0;32mNone\u001b[0m\u001b[0;34m:\u001b[0m\u001b[0;34m\u001b[0m\u001b[0m\n\u001b[1;32m   1320\u001b[0m       return self._do_call(_run_fn, self._session, feeds, fetches, targets,\n\u001b[0;32m-> 1321\u001b[0;31m                            options, run_metadata)\n\u001b[0m\u001b[1;32m   1322\u001b[0m     \u001b[0;32melse\u001b[0m\u001b[0;34m:\u001b[0m\u001b[0;34m\u001b[0m\u001b[0m\n\u001b[1;32m   1323\u001b[0m       \u001b[0;32mreturn\u001b[0m \u001b[0mself\u001b[0m\u001b[0;34m.\u001b[0m\u001b[0m_do_call\u001b[0m\u001b[0;34m(\u001b[0m\u001b[0m_prun_fn\u001b[0m\u001b[0;34m,\u001b[0m \u001b[0mself\u001b[0m\u001b[0;34m.\u001b[0m\u001b[0m_session\u001b[0m\u001b[0;34m,\u001b[0m \u001b[0mhandle\u001b[0m\u001b[0;34m,\u001b[0m \u001b[0mfeeds\u001b[0m\u001b[0;34m,\u001b[0m \u001b[0mfetches\u001b[0m\u001b[0;34m)\u001b[0m\u001b[0;34m\u001b[0m\u001b[0m\n",
      "\u001b[0;32m~/.anaconda3/lib/python3.5/site-packages/tensorflow/python/client/session.py\u001b[0m in \u001b[0;36m_do_call\u001b[0;34m(self, fn, *args)\u001b[0m\n\u001b[1;32m   1325\u001b[0m   \u001b[0;32mdef\u001b[0m \u001b[0m_do_call\u001b[0m\u001b[0;34m(\u001b[0m\u001b[0mself\u001b[0m\u001b[0;34m,\u001b[0m \u001b[0mfn\u001b[0m\u001b[0;34m,\u001b[0m \u001b[0;34m*\u001b[0m\u001b[0margs\u001b[0m\u001b[0;34m)\u001b[0m\u001b[0;34m:\u001b[0m\u001b[0;34m\u001b[0m\u001b[0m\n\u001b[1;32m   1326\u001b[0m     \u001b[0;32mtry\u001b[0m\u001b[0;34m:\u001b[0m\u001b[0;34m\u001b[0m\u001b[0m\n\u001b[0;32m-> 1327\u001b[0;31m       \u001b[0;32mreturn\u001b[0m \u001b[0mfn\u001b[0m\u001b[0;34m(\u001b[0m\u001b[0;34m*\u001b[0m\u001b[0margs\u001b[0m\u001b[0;34m)\u001b[0m\u001b[0;34m\u001b[0m\u001b[0m\n\u001b[0m\u001b[1;32m   1328\u001b[0m     \u001b[0;32mexcept\u001b[0m \u001b[0merrors\u001b[0m\u001b[0;34m.\u001b[0m\u001b[0mOpError\u001b[0m \u001b[0;32mas\u001b[0m \u001b[0me\u001b[0m\u001b[0;34m:\u001b[0m\u001b[0;34m\u001b[0m\u001b[0m\n\u001b[1;32m   1329\u001b[0m       \u001b[0mmessage\u001b[0m \u001b[0;34m=\u001b[0m \u001b[0mcompat\u001b[0m\u001b[0;34m.\u001b[0m\u001b[0mas_text\u001b[0m\u001b[0;34m(\u001b[0m\u001b[0me\u001b[0m\u001b[0;34m.\u001b[0m\u001b[0mmessage\u001b[0m\u001b[0;34m)\u001b[0m\u001b[0;34m\u001b[0m\u001b[0m\n",
      "\u001b[0;32m~/.anaconda3/lib/python3.5/site-packages/tensorflow/python/client/session.py\u001b[0m in \u001b[0;36m_run_fn\u001b[0;34m(session, feed_dict, fetch_list, target_list, options, run_metadata)\u001b[0m\n\u001b[1;32m   1304\u001b[0m           return tf_session.TF_Run(session, options,\n\u001b[1;32m   1305\u001b[0m                                    \u001b[0mfeed_dict\u001b[0m\u001b[0;34m,\u001b[0m \u001b[0mfetch_list\u001b[0m\u001b[0;34m,\u001b[0m \u001b[0mtarget_list\u001b[0m\u001b[0;34m,\u001b[0m\u001b[0;34m\u001b[0m\u001b[0m\n\u001b[0;32m-> 1306\u001b[0;31m                                    status, run_metadata)\n\u001b[0m\u001b[1;32m   1307\u001b[0m \u001b[0;34m\u001b[0m\u001b[0m\n\u001b[1;32m   1308\u001b[0m     \u001b[0;32mdef\u001b[0m \u001b[0m_prun_fn\u001b[0m\u001b[0;34m(\u001b[0m\u001b[0msession\u001b[0m\u001b[0;34m,\u001b[0m \u001b[0mhandle\u001b[0m\u001b[0;34m,\u001b[0m \u001b[0mfeed_dict\u001b[0m\u001b[0;34m,\u001b[0m \u001b[0mfetch_list\u001b[0m\u001b[0;34m)\u001b[0m\u001b[0;34m:\u001b[0m\u001b[0;34m\u001b[0m\u001b[0m\n",
      "\u001b[0;31mKeyboardInterrupt\u001b[0m: "
     ]
    }
   ],
   "source": [
    "batch_size=300\n",
    "epochs=50\n",
    "\n",
    "model.compile(loss=keras.losses.categorical_crossentropy,\n",
    "              optimizer=keras.optimizers.Adadelta(),\n",
    "              metrics=['accuracy'])\n",
    "\n",
    "model.fit(x_train, y_train,\n",
    "          batch_size=batch_size,\n",
    "          epochs=epochs,\n",
    "          verbose=1,\n",
    "          validation_data=(x_test, y_test))\n",
    "score = model.evaluate(x_test, y_test, verbose=0)\n",
    "print('Test loss:', score[0])\n",
    "print('Test accuracy:', score[1])"
   ]
  },
  {
   "cell_type": "markdown",
   "metadata": {},
   "source": [
    "## Cохранение и загрузка моделей"
   ]
  },
  {
   "cell_type": "code",
   "execution_count": 134,
   "metadata": {
    "collapsed": true
   },
   "outputs": [],
   "source": [
    "model.save(\"model.bin\")"
   ]
  },
  {
   "cell_type": "code",
   "execution_count": 135,
   "metadata": {
    "collapsed": true
   },
   "outputs": [],
   "source": [
    "model.load_weights(\"model.bin\")"
   ]
  },
  {
   "cell_type": "markdown",
   "metadata": {
    "collapsed": true
   },
   "source": [
    "# Finetuning"
   ]
  },
  {
   "cell_type": "code",
   "execution_count": 2,
   "metadata": {
    "collapsed": true
   },
   "outputs": [],
   "source": [
    "import os"
   ]
  },
  {
   "cell_type": "code",
   "execution_count": 3,
   "metadata": {
    "collapsed": true
   },
   "outputs": [],
   "source": [
    "path_to_dataset = 'oxfordflower17/'\n",
    "\n",
    "if not os.path.isdir(path_to_dataset):\n",
    "    ! wget http://www.robots.ox.ac.uk/~vgg/data/bicos/data/oxfordflower17.tar\n",
    "    ! tar -xf oxfordflower17.tar"
   ]
  },
  {
   "cell_type": "code",
   "execution_count": 4,
   "metadata": {
    "collapsed": false
   },
   "outputs": [
    {
     "name": "stdout",
     "output_type": "stream",
     "text": [
      "[ 0  0  0 ..., 16 16 16]\n",
      "1360\n"
     ]
    }
   ],
   "source": [
    "import scipy\n",
    "import scipy.io as  io\n",
    "labels = scipy.io.loadmat(path_to_dataset + 'imagelabels.mat')['labels'][0]\n",
    "labels -= 1\n",
    "print(labels)\n",
    "print(len(labels))"
   ]
  },
  {
   "cell_type": "code",
   "execution_count": 5,
   "metadata": {
    "collapsed": false
   },
   "outputs": [
    {
     "name": "stdout",
     "output_type": "stream",
     "text": [
      "1360\n"
     ]
    }
   ],
   "source": [
    "path_to_images = path_to_dataset + 'jpg/'\n",
    "images = os.listdir(path_to_images)\n",
    "images = [path_to_images+i for i in images if i.endswith('.jpg')]\n",
    "images.sort()\n",
    "print(len(images))"
   ]
  },
  {
   "cell_type": "code",
   "execution_count": 6,
   "metadata": {
    "collapsed": false
   },
   "outputs": [
    {
     "name": "stderr",
     "output_type": "stream",
     "text": [
      "/Users/binom/.anaconda3/lib/python3.5/site-packages/skimage/transform/_warps.py:84: UserWarning: The default mode, 'constant', will be changed to 'reflect' in skimage 0.15.\n",
      "  warn(\"The default mode, 'constant', will be changed to 'reflect' in \"\n"
     ]
    }
   ],
   "source": [
    "import numpy as np\n",
    "import cv2\n",
    "import skimage.transform as skit\n",
    "\n",
    "train_data = []\n",
    "train_labels = []\n",
    "test_data = []\n",
    "test_labels = []\n",
    "\n",
    "for i,image in enumerate(images):\n",
    "    if i % 80 == 0: \n",
    "        perm = np.random.permutation(80)\n",
    "        \n",
    "    image = cv2.imread(images[i], cv2.IMREAD_COLOR)[:,:,[2,1,0]]\n",
    "    image = skit.rescale(image, (230/image.shape[0], 230/image.shape[1]))\n",
    "        \n",
    "    if perm[i % 80] < 60:\n",
    "        train_data.append(image)\n",
    "        train_labels.append(labels[i])\n",
    "    else:\n",
    "        test_data.append(image)\n",
    "        test_labels.append(labels[i])\n",
    "\n",
    "        \n",
    "x_train = np.array(train_data)\n",
    "x_test = np.array(test_data)\n",
    "\n",
    "y_train = np.array(train_labels)\n",
    "y_test = np.array(test_labels)"
   ]
  },
  {
   "cell_type": "code",
   "execution_count": 7,
   "metadata": {
    "collapsed": true
   },
   "outputs": [],
   "source": [
    "# сделаем one-hot encoding для таргетов\n",
    "y_train = keras.utils.to_categorical(y_train, 17)\n",
    "y_test = keras.utils.to_categorical(y_test, 17)"
   ]
  },
  {
   "cell_type": "code",
   "execution_count": 11,
   "metadata": {
    "collapsed": false
   },
   "outputs": [
    {
     "name": "stdout",
     "output_type": "stream",
     "text": [
      "Train on 1020 samples, validate on 340 samples\n",
      "Epoch 1/10\n",
      "1020/1020 [==============================] - 506s - loss: 2.4967 - acc: 0.2461 - val_loss: 2.3971 - val_acc: 0.2618\n",
      "Epoch 2/10\n",
      "1020/1020 [==============================] - 503s - loss: 1.7292 - acc: 0.5637 - val_loss: 2.0289 - val_acc: 0.3647\n",
      "Epoch 3/10\n",
      "1020/1020 [==============================] - 528s - loss: 1.3294 - acc: 0.7049 - val_loss: 1.4292 - val_acc: 0.5500\n",
      "Epoch 4/10\n",
      "1020/1020 [==============================] - 509s - loss: 1.0214 - acc: 0.7843 - val_loss: 1.2258 - val_acc: 0.5676\n",
      "Epoch 5/10\n",
      "1020/1020 [==============================] - 491s - loss: 0.8425 - acc: 0.8255 - val_loss: 0.8950 - val_acc: 0.7265\n",
      "Epoch 6/10\n",
      "1020/1020 [==============================] - 431s - loss: 0.7005 - acc: 0.8451 - val_loss: 0.8682 - val_acc: 0.7353\n",
      "Epoch 7/10\n",
      "1020/1020 [==============================] - 441s - loss: 0.6159 - acc: 0.8618 - val_loss: 0.7358 - val_acc: 0.7794\n",
      "Epoch 8/10\n",
      "1020/1020 [==============================] - 475s - loss: 0.4900 - acc: 0.9127 - val_loss: 0.6279 - val_acc: 0.8029\n",
      "Epoch 9/10\n",
      "1020/1020 [==============================] - 2304s - loss: 0.4487 - acc: 0.9108 - val_loss: 0.7113 - val_acc: 0.8088\n",
      "Epoch 10/10\n",
      "1020/1020 [==============================] - 928s - loss: 0.3802 - acc: 0.9245 - val_loss: 0.6528 - val_acc: 0.7941\n",
      "0 input_4\n",
      "1 conv2d_232\n",
      "2 batch_normalization_232\n",
      "3 activation_231\n",
      "4 conv2d_233\n",
      "5 batch_normalization_233\n",
      "6 activation_232\n",
      "7 conv2d_234\n",
      "8 batch_normalization_234\n",
      "9 activation_233\n",
      "10 max_pooling2d_12\n",
      "11 conv2d_235\n",
      "12 batch_normalization_235\n",
      "13 activation_234\n",
      "14 conv2d_236\n",
      "15 batch_normalization_236\n",
      "16 activation_235\n",
      "17 max_pooling2d_13\n",
      "18 conv2d_240\n",
      "19 batch_normalization_240\n",
      "20 activation_239\n",
      "21 conv2d_238\n",
      "22 conv2d_241\n",
      "23 batch_normalization_238\n",
      "24 batch_normalization_241\n",
      "25 activation_237\n",
      "26 activation_240\n",
      "27 average_pooling2d_23\n",
      "28 conv2d_237\n",
      "29 conv2d_239\n",
      "30 conv2d_242\n",
      "31 conv2d_243\n",
      "32 batch_normalization_237\n",
      "33 batch_normalization_239\n",
      "34 batch_normalization_242\n",
      "35 batch_normalization_243\n",
      "36 activation_236\n",
      "37 activation_238\n",
      "38 activation_241\n",
      "39 activation_242\n",
      "40 mixed0\n",
      "41 conv2d_247\n",
      "42 batch_normalization_247\n",
      "43 activation_246\n",
      "44 conv2d_245\n",
      "45 conv2d_248\n",
      "46 batch_normalization_245\n",
      "47 batch_normalization_248\n",
      "48 activation_244\n",
      "49 activation_247\n",
      "50 average_pooling2d_24\n",
      "51 conv2d_244\n",
      "52 conv2d_246\n",
      "53 conv2d_249\n",
      "54 conv2d_250\n",
      "55 batch_normalization_244\n",
      "56 batch_normalization_246\n",
      "57 batch_normalization_249\n",
      "58 batch_normalization_250\n",
      "59 activation_243\n",
      "60 activation_245\n",
      "61 activation_248\n",
      "62 activation_249\n",
      "63 mixed1\n",
      "64 conv2d_254\n",
      "65 batch_normalization_254\n",
      "66 activation_253\n",
      "67 conv2d_252\n",
      "68 conv2d_255\n",
      "69 batch_normalization_252\n",
      "70 batch_normalization_255\n",
      "71 activation_251\n",
      "72 activation_254\n",
      "73 average_pooling2d_25\n",
      "74 conv2d_251\n",
      "75 conv2d_253\n",
      "76 conv2d_256\n",
      "77 conv2d_257\n",
      "78 batch_normalization_251\n",
      "79 batch_normalization_253\n",
      "80 batch_normalization_256\n",
      "81 batch_normalization_257\n",
      "82 activation_250\n",
      "83 activation_252\n",
      "84 activation_255\n",
      "85 activation_256\n",
      "86 mixed2\n",
      "87 conv2d_259\n",
      "88 batch_normalization_259\n",
      "89 activation_258\n",
      "90 conv2d_260\n",
      "91 batch_normalization_260\n",
      "92 activation_259\n",
      "93 conv2d_258\n",
      "94 conv2d_261\n",
      "95 batch_normalization_258\n",
      "96 batch_normalization_261\n",
      "97 activation_257\n",
      "98 activation_260\n",
      "99 max_pooling2d_14\n",
      "100 mixed3\n",
      "101 conv2d_266\n",
      "102 batch_normalization_266\n",
      "103 activation_265\n",
      "104 conv2d_267\n",
      "105 batch_normalization_267\n",
      "106 activation_266\n",
      "107 conv2d_263\n",
      "108 conv2d_268\n",
      "109 batch_normalization_263\n",
      "110 batch_normalization_268\n",
      "111 activation_262\n",
      "112 activation_267\n",
      "113 conv2d_264\n",
      "114 conv2d_269\n",
      "115 batch_normalization_264\n",
      "116 batch_normalization_269\n",
      "117 activation_263\n",
      "118 activation_268\n",
      "119 average_pooling2d_26\n",
      "120 conv2d_262\n",
      "121 conv2d_265\n",
      "122 conv2d_270\n",
      "123 conv2d_271\n",
      "124 batch_normalization_262\n",
      "125 batch_normalization_265\n",
      "126 batch_normalization_270\n",
      "127 batch_normalization_271\n",
      "128 activation_261\n",
      "129 activation_264\n",
      "130 activation_269\n",
      "131 activation_270\n",
      "132 mixed4\n",
      "133 conv2d_276\n",
      "134 batch_normalization_276\n",
      "135 activation_275\n",
      "136 conv2d_277\n",
      "137 batch_normalization_277\n",
      "138 activation_276\n",
      "139 conv2d_273\n",
      "140 conv2d_278\n",
      "141 batch_normalization_273\n",
      "142 batch_normalization_278\n",
      "143 activation_272\n",
      "144 activation_277\n",
      "145 conv2d_274\n",
      "146 conv2d_279\n",
      "147 batch_normalization_274\n",
      "148 batch_normalization_279\n",
      "149 activation_273\n",
      "150 activation_278\n",
      "151 average_pooling2d_27\n",
      "152 conv2d_272\n",
      "153 conv2d_275\n",
      "154 conv2d_280\n",
      "155 conv2d_281\n",
      "156 batch_normalization_272\n",
      "157 batch_normalization_275\n",
      "158 batch_normalization_280\n",
      "159 batch_normalization_281\n",
      "160 activation_271\n",
      "161 activation_274\n",
      "162 activation_279\n",
      "163 activation_280\n",
      "164 mixed5\n",
      "165 conv2d_286\n",
      "166 batch_normalization_286\n",
      "167 activation_285\n",
      "168 conv2d_287\n",
      "169 batch_normalization_287\n",
      "170 activation_286\n",
      "171 conv2d_283\n",
      "172 conv2d_288\n",
      "173 batch_normalization_283\n",
      "174 batch_normalization_288\n",
      "175 activation_282\n",
      "176 activation_287\n",
      "177 conv2d_284\n",
      "178 conv2d_289\n",
      "179 batch_normalization_284\n",
      "180 batch_normalization_289\n",
      "181 activation_283\n",
      "182 activation_288\n",
      "183 average_pooling2d_28\n",
      "184 conv2d_282\n",
      "185 conv2d_285\n",
      "186 conv2d_290\n",
      "187 conv2d_291\n",
      "188 batch_normalization_282\n",
      "189 batch_normalization_285\n",
      "190 batch_normalization_290\n",
      "191 batch_normalization_291\n",
      "192 activation_281\n",
      "193 activation_284\n",
      "194 activation_289\n",
      "195 activation_290\n",
      "196 mixed6\n",
      "197 conv2d_296\n",
      "198 batch_normalization_296\n",
      "199 activation_295\n",
      "200 conv2d_297\n",
      "201 batch_normalization_297\n",
      "202 activation_296\n",
      "203 conv2d_293\n",
      "204 conv2d_298\n",
      "205 batch_normalization_293\n",
      "206 batch_normalization_298\n",
      "207 activation_292\n",
      "208 activation_297\n",
      "209 conv2d_294\n",
      "210 conv2d_299\n",
      "211 batch_normalization_294\n",
      "212 batch_normalization_299\n",
      "213 activation_293\n",
      "214 activation_298\n",
      "215 average_pooling2d_29\n",
      "216 conv2d_292\n",
      "217 conv2d_295\n",
      "218 conv2d_300\n",
      "219 conv2d_301\n",
      "220 batch_normalization_292\n",
      "221 batch_normalization_295\n",
      "222 batch_normalization_300\n",
      "223 batch_normalization_301\n",
      "224 activation_291\n",
      "225 activation_294\n",
      "226 activation_299\n",
      "227 activation_300\n",
      "228 mixed7\n",
      "229 conv2d_304\n",
      "230 batch_normalization_304\n",
      "231 activation_303\n",
      "232 conv2d_305\n",
      "233 batch_normalization_305\n",
      "234 activation_304\n",
      "235 conv2d_302\n",
      "236 conv2d_306\n",
      "237 batch_normalization_302\n",
      "238 batch_normalization_306\n",
      "239 activation_301\n",
      "240 activation_305\n",
      "241 conv2d_303\n",
      "242 conv2d_307\n",
      "243 batch_normalization_303\n",
      "244 batch_normalization_307\n",
      "245 activation_302\n",
      "246 activation_306\n",
      "247 max_pooling2d_15\n",
      "248 mixed8\n",
      "249 conv2d_312\n",
      "250 batch_normalization_312\n",
      "251 activation_311\n",
      "252 conv2d_309\n",
      "253 conv2d_313\n",
      "254 batch_normalization_309\n",
      "255 batch_normalization_313\n",
      "256 activation_308\n",
      "257 activation_312\n",
      "258 conv2d_310\n",
      "259 conv2d_311\n",
      "260 conv2d_314\n",
      "261 conv2d_315\n",
      "262 average_pooling2d_30\n",
      "263 conv2d_308\n",
      "264 batch_normalization_310\n",
      "265 batch_normalization_311\n",
      "266 batch_normalization_314\n",
      "267 batch_normalization_315\n",
      "268 conv2d_316\n",
      "269 batch_normalization_308\n",
      "270 activation_309\n",
      "271 activation_310\n",
      "272 activation_313\n",
      "273 activation_314\n",
      "274 batch_normalization_316\n",
      "275 activation_307\n",
      "276 mixed9_0\n",
      "277 concatenate_5\n",
      "278 activation_315\n",
      "279 mixed9\n",
      "280 conv2d_321\n",
      "281 batch_normalization_321\n",
      "282 activation_320\n",
      "283 conv2d_318\n",
      "284 conv2d_322\n",
      "285 batch_normalization_318\n",
      "286 batch_normalization_322\n",
      "287 activation_317\n",
      "288 activation_321\n",
      "289 conv2d_319\n",
      "290 conv2d_320\n",
      "291 conv2d_323\n",
      "292 conv2d_324\n",
      "293 average_pooling2d_31\n",
      "294 conv2d_317\n",
      "295 batch_normalization_319\n",
      "296 batch_normalization_320\n",
      "297 batch_normalization_323\n",
      "298 batch_normalization_324\n",
      "299 conv2d_325\n",
      "300 batch_normalization_317\n",
      "301 activation_318\n",
      "302 activation_319\n",
      "303 activation_322\n",
      "304 activation_323\n",
      "305 batch_normalization_325\n",
      "306 activation_316\n",
      "307 mixed9_1\n",
      "308 concatenate_6\n",
      "309 activation_324\n",
      "310 mixed10\n",
      "Train on 1020 samples, validate on 340 samples\n",
      "Epoch 1/50\n",
      "1020/1020 [==============================] - 1596s - loss: 0.3861 - acc: 0.9078 - val_loss: 0.5772 - val_acc: 0.8294\n",
      "Epoch 2/50\n",
      "1020/1020 [==============================] - 744s - loss: 0.3142 - acc: 0.9510 - val_loss: 0.5208 - val_acc: 0.8559\n",
      "Epoch 3/50\n",
      "1020/1020 [==============================] - 850s - loss: 0.2792 - acc: 0.9657 - val_loss: 0.4939 - val_acc: 0.8618\n",
      "Epoch 4/50\n",
      "1020/1020 [==============================] - 2562s - loss: 0.2442 - acc: 0.9725 - val_loss: 0.4815 - val_acc: 0.8706\n",
      "Epoch 5/50\n",
      "1020/1020 [==============================] - 621s - loss: 0.2370 - acc: 0.9755 - val_loss: 0.4757 - val_acc: 0.8824\n",
      "Epoch 6/50\n",
      "1020/1020 [==============================] - 3988s - loss: 0.2312 - acc: 0.9804 - val_loss: 0.4713 - val_acc: 0.8912\n",
      "Epoch 7/50\n",
      "1020/1020 [==============================] - 521s - loss: 0.2141 - acc: 0.9725 - val_loss: 0.4681 - val_acc: 0.8824\n",
      "Epoch 8/50\n",
      "1020/1020 [==============================] - 580s - loss: 0.1798 - acc: 0.9833 - val_loss: 0.4652 - val_acc: 0.8824\n",
      "Epoch 9/50\n",
      "1020/1020 [==============================] - 4209s - loss: 0.1803 - acc: 0.9912 - val_loss: 0.4642 - val_acc: 0.8794\n",
      "Epoch 10/50\n",
      "1020/1020 [==============================] - 515s - loss: 0.1876 - acc: 0.9882 - val_loss: 0.4608 - val_acc: 0.8794\n",
      "Epoch 11/50\n",
      "1020/1020 [==============================] - 556s - loss: 0.1739 - acc: 0.9912 - val_loss: 0.4587 - val_acc: 0.8824\n",
      "Epoch 12/50\n",
      "1020/1020 [==============================] - 663s - loss: 0.1831 - acc: 0.9833 - val_loss: 0.4547 - val_acc: 0.8794\n",
      "Epoch 13/50\n",
      "1020/1020 [==============================] - 1846s - loss: 0.1562 - acc: 0.9961 - val_loss: 0.4533 - val_acc: 0.8794\n",
      "Epoch 14/50\n",
      "1020/1020 [==============================] - 547s - loss: 0.1492 - acc: 0.9892 - val_loss: 0.4514 - val_acc: 0.8794\n",
      "Epoch 15/50\n",
      "1020/1020 [==============================] - 713s - loss: 0.1385 - acc: 0.9971 - val_loss: 0.4490 - val_acc: 0.8824\n",
      "Epoch 16/50\n",
      "1020/1020 [==============================] - 7901s - loss: 0.1365 - acc: 0.9931 - val_loss: 0.4461 - val_acc: 0.8824\n",
      "Epoch 17/50\n",
      "1020/1020 [==============================] - 612s - loss: 0.1468 - acc: 0.9863 - val_loss: 0.4430 - val_acc: 0.8853\n",
      "Epoch 18/50\n",
      "1020/1020 [==============================] - 579s - loss: 0.1303 - acc: 0.9961 - val_loss: 0.4403 - val_acc: 0.8882\n",
      "Epoch 19/50\n",
      "1020/1020 [==============================] - 3430s - loss: 0.1331 - acc: 0.9961 - val_loss: 0.4382 - val_acc: 0.8882\n",
      "Epoch 20/50\n",
      "1020/1020 [==============================] - 514s - loss: 0.1273 - acc: 0.9971 - val_loss: 0.4356 - val_acc: 0.8882\n",
      "Epoch 21/50\n",
      "1020/1020 [==============================] - 513s - loss: 0.1251 - acc: 0.9961 - val_loss: 0.4331 - val_acc: 0.8912\n",
      "Epoch 22/50\n",
      "1020/1020 [==============================] - 875s - loss: 0.1243 - acc: 0.9912 - val_loss: 0.4299 - val_acc: 0.8882\n",
      "Epoch 23/50\n",
      "1000/1020 [============================>.] - ETA: 7s - loss: 0.1217 - acc: 0.9940 "
     ]
    },
    {
     "ename": "KeyboardInterrupt",
     "evalue": "",
     "output_type": "error",
     "traceback": [
      "\u001b[0;31m---------------------------------------------------------------------------\u001b[0m",
      "\u001b[0;31mKeyboardInterrupt\u001b[0m                         Traceback (most recent call last)",
      "\u001b[0;32m<ipython-input-11-1f14e20063ce>\u001b[0m in \u001b[0;36m<module>\u001b[0;34m()\u001b[0m\n\u001b[1;32m     61\u001b[0m           \u001b[0mepochs\u001b[0m\u001b[0;34m=\u001b[0m\u001b[0;36m50\u001b[0m\u001b[0;34m,\u001b[0m\u001b[0;34m\u001b[0m\u001b[0m\n\u001b[1;32m     62\u001b[0m           \u001b[0mverbose\u001b[0m\u001b[0;34m=\u001b[0m\u001b[0;36m1\u001b[0m\u001b[0;34m,\u001b[0m\u001b[0;34m\u001b[0m\u001b[0m\n\u001b[0;32m---> 63\u001b[0;31m           validation_data=(x_test, y_test))\n\u001b[0m",
      "\u001b[0;32m~/.anaconda3/lib/python3.5/site-packages/keras/engine/training.py\u001b[0m in \u001b[0;36mfit\u001b[0;34m(self, x, y, batch_size, epochs, verbose, callbacks, validation_split, validation_data, shuffle, class_weight, sample_weight, initial_epoch, steps_per_epoch, validation_steps, **kwargs)\u001b[0m\n\u001b[1;32m   1596\u001b[0m                               \u001b[0minitial_epoch\u001b[0m\u001b[0;34m=\u001b[0m\u001b[0minitial_epoch\u001b[0m\u001b[0;34m,\u001b[0m\u001b[0;34m\u001b[0m\u001b[0m\n\u001b[1;32m   1597\u001b[0m                               \u001b[0msteps_per_epoch\u001b[0m\u001b[0;34m=\u001b[0m\u001b[0msteps_per_epoch\u001b[0m\u001b[0;34m,\u001b[0m\u001b[0;34m\u001b[0m\u001b[0m\n\u001b[0;32m-> 1598\u001b[0;31m                               validation_steps=validation_steps)\n\u001b[0m\u001b[1;32m   1599\u001b[0m \u001b[0;34m\u001b[0m\u001b[0m\n\u001b[1;32m   1600\u001b[0m     def evaluate(self, x, y,\n",
      "\u001b[0;32m~/.anaconda3/lib/python3.5/site-packages/keras/engine/training.py\u001b[0m in \u001b[0;36m_fit_loop\u001b[0;34m(self, f, ins, out_labels, batch_size, epochs, verbose, callbacks, val_f, val_ins, shuffle, callback_metrics, initial_epoch, steps_per_epoch, validation_steps)\u001b[0m\n\u001b[1;32m   1195\u001b[0m                             val_outs = self._test_loop(val_f, val_ins,\n\u001b[1;32m   1196\u001b[0m                                                        \u001b[0mbatch_size\u001b[0m\u001b[0;34m=\u001b[0m\u001b[0mbatch_size\u001b[0m\u001b[0;34m,\u001b[0m\u001b[0;34m\u001b[0m\u001b[0m\n\u001b[0;32m-> 1197\u001b[0;31m                                                        verbose=0)\n\u001b[0m\u001b[1;32m   1198\u001b[0m                             \u001b[0;32mif\u001b[0m \u001b[0;32mnot\u001b[0m \u001b[0misinstance\u001b[0m\u001b[0;34m(\u001b[0m\u001b[0mval_outs\u001b[0m\u001b[0;34m,\u001b[0m \u001b[0mlist\u001b[0m\u001b[0;34m)\u001b[0m\u001b[0;34m:\u001b[0m\u001b[0;34m\u001b[0m\u001b[0m\n\u001b[1;32m   1199\u001b[0m                                 \u001b[0mval_outs\u001b[0m \u001b[0;34m=\u001b[0m \u001b[0;34m[\u001b[0m\u001b[0mval_outs\u001b[0m\u001b[0;34m]\u001b[0m\u001b[0;34m\u001b[0m\u001b[0m\n",
      "\u001b[0;32m~/.anaconda3/lib/python3.5/site-packages/keras/engine/training.py\u001b[0m in \u001b[0;36m_test_loop\u001b[0;34m(self, f, ins, batch_size, verbose, steps)\u001b[0m\n\u001b[1;32m   1337\u001b[0m                     \u001b[0mins_batch\u001b[0m \u001b[0;34m=\u001b[0m \u001b[0m_slice_arrays\u001b[0m\u001b[0;34m(\u001b[0m\u001b[0mins\u001b[0m\u001b[0;34m,\u001b[0m \u001b[0mbatch_ids\u001b[0m\u001b[0;34m)\u001b[0m\u001b[0;34m\u001b[0m\u001b[0m\n\u001b[1;32m   1338\u001b[0m \u001b[0;34m\u001b[0m\u001b[0m\n\u001b[0;32m-> 1339\u001b[0;31m                 \u001b[0mbatch_outs\u001b[0m \u001b[0;34m=\u001b[0m \u001b[0mf\u001b[0m\u001b[0;34m(\u001b[0m\u001b[0mins_batch\u001b[0m\u001b[0;34m)\u001b[0m\u001b[0;34m\u001b[0m\u001b[0m\n\u001b[0m\u001b[1;32m   1340\u001b[0m                 \u001b[0;32mif\u001b[0m \u001b[0misinstance\u001b[0m\u001b[0;34m(\u001b[0m\u001b[0mbatch_outs\u001b[0m\u001b[0;34m,\u001b[0m \u001b[0mlist\u001b[0m\u001b[0;34m)\u001b[0m\u001b[0;34m:\u001b[0m\u001b[0;34m\u001b[0m\u001b[0m\n\u001b[1;32m   1341\u001b[0m                     \u001b[0;32mif\u001b[0m \u001b[0mbatch_index\u001b[0m \u001b[0;34m==\u001b[0m \u001b[0;36m0\u001b[0m\u001b[0;34m:\u001b[0m\u001b[0;34m\u001b[0m\u001b[0m\n",
      "\u001b[0;32m~/.anaconda3/lib/python3.5/site-packages/keras/backend/tensorflow_backend.py\u001b[0m in \u001b[0;36m__call__\u001b[0;34m(self, inputs)\u001b[0m\n\u001b[1;32m   2271\u001b[0m         updated = session.run(self.outputs + [self.updates_op],\n\u001b[1;32m   2272\u001b[0m                               \u001b[0mfeed_dict\u001b[0m\u001b[0;34m=\u001b[0m\u001b[0mfeed_dict\u001b[0m\u001b[0;34m,\u001b[0m\u001b[0;34m\u001b[0m\u001b[0m\n\u001b[0;32m-> 2273\u001b[0;31m                               **self.session_kwargs)\n\u001b[0m\u001b[1;32m   2274\u001b[0m         \u001b[0;32mreturn\u001b[0m \u001b[0mupdated\u001b[0m\u001b[0;34m[\u001b[0m\u001b[0;34m:\u001b[0m\u001b[0mlen\u001b[0m\u001b[0;34m(\u001b[0m\u001b[0mself\u001b[0m\u001b[0;34m.\u001b[0m\u001b[0moutputs\u001b[0m\u001b[0;34m)\u001b[0m\u001b[0;34m]\u001b[0m\u001b[0;34m\u001b[0m\u001b[0m\n\u001b[1;32m   2275\u001b[0m \u001b[0;34m\u001b[0m\u001b[0m\n",
      "\u001b[0;32m~/.anaconda3/lib/python3.5/site-packages/tensorflow/python/client/session.py\u001b[0m in \u001b[0;36mrun\u001b[0;34m(self, fetches, feed_dict, options, run_metadata)\u001b[0m\n\u001b[1;32m    893\u001b[0m     \u001b[0;32mtry\u001b[0m\u001b[0;34m:\u001b[0m\u001b[0;34m\u001b[0m\u001b[0m\n\u001b[1;32m    894\u001b[0m       result = self._run(None, fetches, feed_dict, options_ptr,\n\u001b[0;32m--> 895\u001b[0;31m                          run_metadata_ptr)\n\u001b[0m\u001b[1;32m    896\u001b[0m       \u001b[0;32mif\u001b[0m \u001b[0mrun_metadata\u001b[0m\u001b[0;34m:\u001b[0m\u001b[0;34m\u001b[0m\u001b[0m\n\u001b[1;32m    897\u001b[0m         \u001b[0mproto_data\u001b[0m \u001b[0;34m=\u001b[0m \u001b[0mtf_session\u001b[0m\u001b[0;34m.\u001b[0m\u001b[0mTF_GetBuffer\u001b[0m\u001b[0;34m(\u001b[0m\u001b[0mrun_metadata_ptr\u001b[0m\u001b[0;34m)\u001b[0m\u001b[0;34m\u001b[0m\u001b[0m\n",
      "\u001b[0;32m~/.anaconda3/lib/python3.5/site-packages/tensorflow/python/client/session.py\u001b[0m in \u001b[0;36m_run\u001b[0;34m(self, handle, fetches, feed_dict, options, run_metadata)\u001b[0m\n\u001b[1;32m   1122\u001b[0m     \u001b[0;32mif\u001b[0m \u001b[0mfinal_fetches\u001b[0m \u001b[0;32mor\u001b[0m \u001b[0mfinal_targets\u001b[0m \u001b[0;32mor\u001b[0m \u001b[0;34m(\u001b[0m\u001b[0mhandle\u001b[0m \u001b[0;32mand\u001b[0m \u001b[0mfeed_dict_tensor\u001b[0m\u001b[0;34m)\u001b[0m\u001b[0;34m:\u001b[0m\u001b[0;34m\u001b[0m\u001b[0m\n\u001b[1;32m   1123\u001b[0m       results = self._do_run(handle, final_targets, final_fetches,\n\u001b[0;32m-> 1124\u001b[0;31m                              feed_dict_tensor, options, run_metadata)\n\u001b[0m\u001b[1;32m   1125\u001b[0m     \u001b[0;32melse\u001b[0m\u001b[0;34m:\u001b[0m\u001b[0;34m\u001b[0m\u001b[0m\n\u001b[1;32m   1126\u001b[0m       \u001b[0mresults\u001b[0m \u001b[0;34m=\u001b[0m \u001b[0;34m[\u001b[0m\u001b[0;34m]\u001b[0m\u001b[0;34m\u001b[0m\u001b[0m\n",
      "\u001b[0;32m~/.anaconda3/lib/python3.5/site-packages/tensorflow/python/client/session.py\u001b[0m in \u001b[0;36m_do_run\u001b[0;34m(self, handle, target_list, fetch_list, feed_dict, options, run_metadata)\u001b[0m\n\u001b[1;32m   1319\u001b[0m     \u001b[0;32mif\u001b[0m \u001b[0mhandle\u001b[0m \u001b[0;32mis\u001b[0m \u001b[0;32mNone\u001b[0m\u001b[0;34m:\u001b[0m\u001b[0;34m\u001b[0m\u001b[0m\n\u001b[1;32m   1320\u001b[0m       return self._do_call(_run_fn, self._session, feeds, fetches, targets,\n\u001b[0;32m-> 1321\u001b[0;31m                            options, run_metadata)\n\u001b[0m\u001b[1;32m   1322\u001b[0m     \u001b[0;32melse\u001b[0m\u001b[0;34m:\u001b[0m\u001b[0;34m\u001b[0m\u001b[0m\n\u001b[1;32m   1323\u001b[0m       \u001b[0;32mreturn\u001b[0m \u001b[0mself\u001b[0m\u001b[0;34m.\u001b[0m\u001b[0m_do_call\u001b[0m\u001b[0;34m(\u001b[0m\u001b[0m_prun_fn\u001b[0m\u001b[0;34m,\u001b[0m \u001b[0mself\u001b[0m\u001b[0;34m.\u001b[0m\u001b[0m_session\u001b[0m\u001b[0;34m,\u001b[0m \u001b[0mhandle\u001b[0m\u001b[0;34m,\u001b[0m \u001b[0mfeeds\u001b[0m\u001b[0;34m,\u001b[0m \u001b[0mfetches\u001b[0m\u001b[0;34m)\u001b[0m\u001b[0;34m\u001b[0m\u001b[0m\n",
      "\u001b[0;32m~/.anaconda3/lib/python3.5/site-packages/tensorflow/python/client/session.py\u001b[0m in \u001b[0;36m_do_call\u001b[0;34m(self, fn, *args)\u001b[0m\n\u001b[1;32m   1325\u001b[0m   \u001b[0;32mdef\u001b[0m \u001b[0m_do_call\u001b[0m\u001b[0;34m(\u001b[0m\u001b[0mself\u001b[0m\u001b[0;34m,\u001b[0m \u001b[0mfn\u001b[0m\u001b[0;34m,\u001b[0m \u001b[0;34m*\u001b[0m\u001b[0margs\u001b[0m\u001b[0;34m)\u001b[0m\u001b[0;34m:\u001b[0m\u001b[0;34m\u001b[0m\u001b[0m\n\u001b[1;32m   1326\u001b[0m     \u001b[0;32mtry\u001b[0m\u001b[0;34m:\u001b[0m\u001b[0;34m\u001b[0m\u001b[0m\n\u001b[0;32m-> 1327\u001b[0;31m       \u001b[0;32mreturn\u001b[0m \u001b[0mfn\u001b[0m\u001b[0;34m(\u001b[0m\u001b[0;34m*\u001b[0m\u001b[0margs\u001b[0m\u001b[0;34m)\u001b[0m\u001b[0;34m\u001b[0m\u001b[0m\n\u001b[0m\u001b[1;32m   1328\u001b[0m     \u001b[0;32mexcept\u001b[0m \u001b[0merrors\u001b[0m\u001b[0;34m.\u001b[0m\u001b[0mOpError\u001b[0m \u001b[0;32mas\u001b[0m \u001b[0me\u001b[0m\u001b[0;34m:\u001b[0m\u001b[0;34m\u001b[0m\u001b[0m\n\u001b[1;32m   1329\u001b[0m       \u001b[0mmessage\u001b[0m \u001b[0;34m=\u001b[0m \u001b[0mcompat\u001b[0m\u001b[0;34m.\u001b[0m\u001b[0mas_text\u001b[0m\u001b[0;34m(\u001b[0m\u001b[0me\u001b[0m\u001b[0;34m.\u001b[0m\u001b[0mmessage\u001b[0m\u001b[0;34m)\u001b[0m\u001b[0;34m\u001b[0m\u001b[0m\n",
      "\u001b[0;32m~/.anaconda3/lib/python3.5/site-packages/tensorflow/python/client/session.py\u001b[0m in \u001b[0;36m_run_fn\u001b[0;34m(session, feed_dict, fetch_list, target_list, options, run_metadata)\u001b[0m\n\u001b[1;32m   1304\u001b[0m           return tf_session.TF_Run(session, options,\n\u001b[1;32m   1305\u001b[0m                                    \u001b[0mfeed_dict\u001b[0m\u001b[0;34m,\u001b[0m \u001b[0mfetch_list\u001b[0m\u001b[0;34m,\u001b[0m \u001b[0mtarget_list\u001b[0m\u001b[0;34m,\u001b[0m\u001b[0;34m\u001b[0m\u001b[0m\n\u001b[0;32m-> 1306\u001b[0;31m                                    status, run_metadata)\n\u001b[0m\u001b[1;32m   1307\u001b[0m \u001b[0;34m\u001b[0m\u001b[0m\n\u001b[1;32m   1308\u001b[0m     \u001b[0;32mdef\u001b[0m \u001b[0m_prun_fn\u001b[0m\u001b[0;34m(\u001b[0m\u001b[0msession\u001b[0m\u001b[0;34m,\u001b[0m \u001b[0mhandle\u001b[0m\u001b[0;34m,\u001b[0m \u001b[0mfeed_dict\u001b[0m\u001b[0;34m,\u001b[0m \u001b[0mfetch_list\u001b[0m\u001b[0;34m)\u001b[0m\u001b[0;34m:\u001b[0m\u001b[0;34m\u001b[0m\u001b[0m\n",
      "\u001b[0;31mKeyboardInterrupt\u001b[0m: "
     ]
    }
   ],
   "source": [
    "from keras.applications.inception_v3 import InceptionV3\n",
    "from keras.preprocessing import image\n",
    "from keras.models import Model\n",
    "from keras.layers import Dense, GlobalAveragePooling2D\n",
    "from keras import backend as K\n",
    "\n",
    "# create the base pre-trained model\n",
    "base_model = InceptionV3(input_shape=(230, 230, 3),weights='imagenet', include_top=False)\n",
    "\n",
    "# add a global spatial average pooling layer\n",
    "x = base_model.output\n",
    "x = GlobalAveragePooling2D()(x)\n",
    "# let's add a fully-connected layer\n",
    "x = Dense(30, activation='relu')(x)\n",
    "# and a logistic layer -- let's say we have 200 classes\n",
    "predictions = Dense(17, activation='softmax')(x)\n",
    "\n",
    "# this is the model we will train\n",
    "model = Model(inputs=base_model.input, outputs=predictions)\n",
    "\n",
    "# first: train only the top layers (which were randomly initialized)\n",
    "# i.e. freeze all convolutional InceptionV3 layers\n",
    "for layer in base_model.layers:\n",
    "    layer.trainable = False\n",
    "\n",
    "# compile the model (should be done *after* setting layers to non-trainable)\n",
    "model.compile(optimizer='rmsprop', loss='categorical_crossentropy', metrics=['accuracy'])\n",
    "\n",
    "# train the model on the new data for a few epochs\n",
    "model.fit(x_train, y_train,\n",
    "          batch_size=50,\n",
    "          epochs=10,\n",
    "          verbose=1,\n",
    "          validation_data=(x_test, y_test))\n",
    "\n",
    "# at this point, the top layers are well trained and we can start fine-tuning\n",
    "# convolutional layers from inception V3. We will freeze the bottom N layers\n",
    "# and train the remaining top layers.\n",
    "\n",
    "# let's visualize layer names and layer indices to see how many layers\n",
    "# we should freeze:\n",
    "for i, layer in enumerate(base_model.layers):\n",
    "    print(i, layer.name)\n",
    "\n",
    "# we chose to train the top 2 inception blocks, i.e. we will freeze\n",
    "# the first 249 layers and unfreeze the rest:\n",
    "for layer in model.layers[:249]:\n",
    "    layer.trainable = False\n",
    "for layer in model.layers[249:]:\n",
    "    layer.trainable = True\n",
    "\n",
    "# we need to recompile the model for these modifications to take effect\n",
    "# we use SGD with a low learning rate\n",
    "from keras.optimizers import SGD\n",
    "model.compile(optimizer=SGD(lr=0.0001, momentum=0.9), loss='categorical_crossentropy', metrics=['accuracy'])\n",
    "\n",
    "# we train our model again (this time fine-tuning the top 2 inception blocks\n",
    "# alongside the top Dense layers\n",
    "model.fit(x_train, y_train,\n",
    "          batch_size=50,\n",
    "          epochs=50,\n",
    "          verbose=1,\n",
    "          validation_data=(x_test, y_test))"
   ]
  }
 ],
 "metadata": {
  "anaconda-cloud": {},
  "kernelspec": {
   "display_name": "Python [conda root]",
   "language": "python",
   "name": "conda-root-py"
  },
  "language_info": {
   "codemirror_mode": {
    "name": "ipython",
    "version": 3
   },
   "file_extension": ".py",
   "mimetype": "text/x-python",
   "name": "python",
   "nbconvert_exporter": "python",
   "pygments_lexer": "ipython3",
   "version": "3.5.2"
  }
 },
 "nbformat": 4,
 "nbformat_minor": 2
}
