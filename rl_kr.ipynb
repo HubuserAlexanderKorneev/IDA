{
 "cells": [
  {
   "cell_type": "code",
   "execution_count": 44,
   "metadata": {
    "collapsed": true
   },
   "outputs": [],
   "source": [
    "import numpy as np\n",
    "import random\n",
    "import matplotlib as plt\n",
    "\n",
    "gamma = 0.8\n",
    "# columns 1 - up, 2 - down, 3 - left, 4 - right\n",
    "reward = [\n",
    "          [0, 0, -1, 0],\n",
    "          [0, 0, 0, 0],\n",
    "          [0, 0, -1, 0],\n",
    "          [0, 0, 10, 0],\n",
    "          [-1, -1, 0, 0],\n",
    "          [0, 0, 0, 0],\n",
    "          [0, 0, 0, -1],\n",
    "          [0, 10, 0, 0],\n",
    "          [0, 0, 0, -1]\n",
    "         ]\n",
    "q_matr = np.zeros((9, 4))\n",
    "\n",
    "transition_matr = [\n",
    "          [1, -1, 0, -1],\n",
    "          [2, 0, 4, -1],\n",
    "          [-1, 1, 2, -1],\n",
    "          [4, -1, 6, 0],\n",
    "          [4, 4, 7, 1],\n",
    "          [-1, 4, 8, 2],\n",
    "          [7, -1, -1, 6],\n",
    "          [8, 6, -1, 4],\n",
    "          [-1, 7, -1, 8]\n",
    "]\n",
    "valid_actions = [\n",
    "          [0, 2],\n",
    "          [0, 1, 2],\n",
    "          [1, 2],\n",
    "          [0, 2, 3],\n",
    "          [0, 1, 2, 3],\n",
    "          [1, 2, 3],\n",
    "          [0, 3],\n",
    "          [0, 1, 3],\n",
    "          [1, 3]\n",
    "]"
   ]
  },
  {
   "cell_type": "code",
   "execution_count": 45,
   "metadata": {},
   "outputs": [],
   "source": [
    "for i in range(1000):\n",
    "    start_state=0\n",
    "    curr_state = start_state\n",
    "    while curr_state != 6:\n",
    "        action = random.choice(valid_actions[curr_state])\n",
    "        next_state = transition_matr[curr_state][action]\n",
    "        future_rewards = []\n",
    "        for action_nxt in valid_actions[next_state]:\n",
    "            future_rewards.append(q_matr[next_state][action_nxt])\n",
    "        q_state = reward[curr_state][action] + gamma*max(future_rewards)\n",
    "        q_matr[curr_state][action] = q_state\n",
    "        curr_state = next_state\n",
    "    "
   ]
  },
  {
   "cell_type": "code",
   "execution_count": 46,
   "metadata": {},
   "outputs": [
    {
     "name": "stdout",
     "output_type": "stream",
     "text": [
      "[[  5.12    0.      3.096   0.   ]\n",
      " [  4.096   4.096   6.4     0.   ]\n",
      " [  0.      5.12    3.096   0.   ]\n",
      " [  0.      0.      0.      0.   ]\n",
      " [  5.4     5.4     8.      5.12 ]\n",
      " [  0.      0.      0.      0.   ]\n",
      " [  0.      0.      0.      0.   ]\n",
      " [  6.4    10.      0.      6.4  ]\n",
      " [  0.      8.      0.      5.4  ]]\n"
     ]
    }
   ],
   "source": [
    "print(q_matr)"
   ]
  },
  {
   "cell_type": "code",
   "execution_count": null,
   "metadata": {
    "collapsed": true
   },
   "outputs": [],
   "source": []
  }
 ],
 "metadata": {
  "anaconda-cloud": {},
  "kernelspec": {
   "display_name": "Python 3",
   "language": "python",
   "name": "python3"
  },
  "language_info": {
   "codemirror_mode": {
    "name": "ipython",
    "version": 3
   },
   "file_extension": ".py",
   "mimetype": "text/x-python",
   "name": "python",
   "nbconvert_exporter": "python",
   "pygments_lexer": "ipython3",
   "version": "3.6.3"
  }
 },
 "nbformat": 4,
 "nbformat_minor": 1
}
